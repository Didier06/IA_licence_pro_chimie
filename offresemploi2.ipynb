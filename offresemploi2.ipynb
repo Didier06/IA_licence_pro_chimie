{
  "nbformat": 4,
  "nbformat_minor": 0,
  "metadata": {
    "colab": {
      "provenance": [],
      "include_colab_link": true
    },
    "kernelspec": {
      "name": "python3",
      "display_name": "Python 3"
    },
    "language_info": {
      "name": "python"
    }
  },
  "cells": [
    {
      "cell_type": "markdown",
      "metadata": {
        "id": "view-in-github",
        "colab_type": "text"
      },
      "source": [
        "<a href=\"https://colab.research.google.com/github/Didier06/IA_licence_pro_chimie/blob/main/offresemploi2.ipynb\" target=\"_parent\"><img src=\"https://colab.research.google.com/assets/colab-badge.svg\" alt=\"Open In Colab\"/></a>"
      ]
    },
    {
      "cell_type": "code",
      "source": [
        "!pip install yagmail==0.15.293"
      ],
      "metadata": {
        "colab": {
          "base_uri": "https://localhost:8080/"
        },
        "id": "MJESo8Va_bFi",
        "outputId": "9ef20576-06e8-42c3-badf-dfe7e402c946"
      },
      "execution_count": 1,
      "outputs": [
        {
          "output_type": "stream",
          "name": "stdout",
          "text": [
            "Collecting yagmail==0.15.293\n",
            "  Downloading yagmail-0.15.293-py2.py3-none-any.whl.metadata (2.9 kB)\n",
            "Collecting premailer (from yagmail==0.15.293)\n",
            "  Downloading premailer-3.10.0-py2.py3-none-any.whl.metadata (15 kB)\n",
            "Requirement already satisfied: lxml in /usr/local/lib/python3.11/dist-packages (from premailer->yagmail==0.15.293) (5.4.0)\n",
            "Collecting cssselect (from premailer->yagmail==0.15.293)\n",
            "  Downloading cssselect-1.3.0-py3-none-any.whl.metadata (2.6 kB)\n",
            "Collecting cssutils (from premailer->yagmail==0.15.293)\n",
            "  Downloading cssutils-2.11.1-py3-none-any.whl.metadata (8.7 kB)\n",
            "Requirement already satisfied: requests in /usr/local/lib/python3.11/dist-packages (from premailer->yagmail==0.15.293) (2.32.3)\n",
            "Requirement already satisfied: cachetools in /usr/local/lib/python3.11/dist-packages (from premailer->yagmail==0.15.293) (5.5.2)\n",
            "Requirement already satisfied: more-itertools in /usr/local/lib/python3.11/dist-packages (from cssutils->premailer->yagmail==0.15.293) (10.7.0)\n",
            "Requirement already satisfied: charset-normalizer<4,>=2 in /usr/local/lib/python3.11/dist-packages (from requests->premailer->yagmail==0.15.293) (3.4.2)\n",
            "Requirement already satisfied: idna<4,>=2.5 in /usr/local/lib/python3.11/dist-packages (from requests->premailer->yagmail==0.15.293) (3.10)\n",
            "Requirement already satisfied: urllib3<3,>=1.21.1 in /usr/local/lib/python3.11/dist-packages (from requests->premailer->yagmail==0.15.293) (2.4.0)\n",
            "Requirement already satisfied: certifi>=2017.4.17 in /usr/local/lib/python3.11/dist-packages (from requests->premailer->yagmail==0.15.293) (2025.4.26)\n",
            "Downloading yagmail-0.15.293-py2.py3-none-any.whl (17 kB)\n",
            "Downloading premailer-3.10.0-py2.py3-none-any.whl (19 kB)\n",
            "Downloading cssselect-1.3.0-py3-none-any.whl (18 kB)\n",
            "Downloading cssutils-2.11.1-py3-none-any.whl (385 kB)\n",
            "\u001b[2K   \u001b[90m━━━━━━━━━━━━━━━━━━━━━━━━━━━━━━━━━━━━━━━━\u001b[0m \u001b[32m385.7/385.7 kB\u001b[0m \u001b[31m8.6 MB/s\u001b[0m eta \u001b[36m0:00:00\u001b[0m\n",
            "\u001b[?25hInstalling collected packages: cssutils, cssselect, premailer, yagmail\n",
            "Successfully installed cssselect-1.3.0 cssutils-2.11.1 premailer-3.10.0 yagmail-0.15.293\n"
          ]
        }
      ]
    },
    {
      "cell_type": "code",
      "execution_count": 2,
      "metadata": {
        "id": "tWkVi506-y5k"
      },
      "outputs": [],
      "source": [
        "import requests\n",
        "import yagmail\n",
        "\n",
        "# === CONFIGURATION ===\n",
        "\n",
        "# Remplace ici par tes identifiants API\n",
        "# Remplace ici par tes identifiants API\n",
        "#https://www.data.gouv.fr/fr/dataservices/api-offres-demploi/\n",
        "CLIENT_ID = \"xxxxxxxxxxx\"\n",
        "CLIENT_SECRET = \"xxxxxxxxxxxx\"\n",
        "\n",
        "\n",
        "# ⚠️ généré depuis ton compte Gmail (mot de passe d'application)\n",
        "# pour créer un mot de passe application avec gmail : https://myaccount.google.com/apppasswords\n",
        "EMAIL_USER = \"votremail@gmail.com\"\n",
        "EMAIL_PASSWORD = \"xxxx\"\n",
        "\n",
        "DESTINATAIRES = [\"dest1@gmail.com\", \"dest2@gmail.com\"]"
      ]
    },
    {
      "cell_type": "code",
      "source": [
        "# === AUTHENTIFICATION ===\n",
        "def get_token():\n",
        "    url = \"https://entreprise.pole-emploi.fr/connexion/oauth2/access_token?realm=/partenaire\"\n",
        "    headers = {\"Content-Type\": \"application/x-www-form-urlencoded\"}\n",
        "    data = {\n",
        "        \"grant_type\": \"client_credentials\",\n",
        "        \"client_id\": CLIENT_ID,\n",
        "        \"client_secret\": CLIENT_SECRET,\n",
        "        \"scope\": \"api_offresdemploiv2 o2dsoffre\"\n",
        "    }\n",
        "    r = requests.post(url, headers=headers, data=data)\n",
        "    r.raise_for_status()\n",
        "    return r.json()[\"access_token\"]\n",
        "\n",
        "# === RECHERCHE D'OFFRES ===\n",
        "def chercher_offres(token):\n",
        "    headers = {\n",
        "        \"Authorization\": f\"Bearer {token}\",\n",
        "        \"Content-Type\": \"application/json\"\n",
        "    }\n",
        "    params = {\n",
        "        \"motsCles\": \"chimie\",\n",
        "        \"range\": \"0-9\"\n",
        "    }\n",
        "    url = \"https://api.pole-emploi.io/partenaire/offresdemploi/v2/offres/search\"\n",
        "    r = requests.get(url, headers=headers, params=params)\n",
        "    r.raise_for_status()\n",
        "    return r.json()\n",
        "\n",
        "# === FORMATAGE POUR EMAIL ===\n",
        "def format_offres(data):\n",
        "    offres = data.get(\"resultats\", [])\n",
        "    liste = []\n",
        "    for offre in offres:\n",
        "        titre = offre.get(\"intitule\", \"Sans titre\")\n",
        "        entreprise = offre.get(\"entreprise\", {}).get(\"nom\", \"Anonyme\")\n",
        "        lieu = offre.get(\"lieuTravail\", {}).get(\"libelle\", \"N/A\")\n",
        "        id_offre = offre.get(\"id\")\n",
        "        lien = f\"https://candidat.pole-emploi.fr/offres/recherche/detail/{id_offre}\" if id_offre else \"Lien indisponible\"\n",
        "        liste.append(f\"{titre} – {entreprise} – {lieu}\\n{lien}\")\n",
        "    return \"\\n\\n\".join(liste)\n",
        "\n",
        "# === ENVOI D'EMAIL ===\n",
        "def envoyer_email(contenu):\n",
        "    print(\"📧 Envoi de l’email...\")\n",
        "    yag = yagmail.SMTP(EMAIL_USER, EMAIL_PASSWORD)\n",
        "    sujet = \"🧪 Offres d'emploi en chimie – hebdomadaire\"\n",
        "    yag.send(to=DESTINATAIRES, subject=sujet, contents=contenu)\n",
        "    print(\"✅ Email envoyé avec succès.\")\n",
        "\n",
        "# === EXÉCUTION ===\n",
        "if __name__ == \"__main__\":\n",
        "    try:\n",
        "        token = get_token()\n",
        "        data = chercher_offres(token)\n",
        "        resume = format_offres(data)\n",
        "        print(resume)  # affichage console\n",
        "        envoyer_email(resume)\n",
        "    except Exception as e:\n",
        "        print(\"❌ Erreur :\", e)\n"
      ],
      "metadata": {
        "colab": {
          "base_uri": "https://localhost:8080/"
        },
        "id": "ZMYj63u7-2x3",
        "outputId": "d48a5f53-805e-4ebd-befe-c42a93206dcb"
      },
      "execution_count": 3,
      "outputs": [
        {
          "output_type": "stream",
          "name": "stdout",
          "text": [
            "Conducteur de lignes en industrie chimique F/H – SYNERGIE – 81 - Albi\n",
            "https://candidat.pole-emploi.fr/offres/recherche/detail/193ZVWL\n",
            "\n",
            "#MANE Conducteur  Industrie Chimique (H/F) – Anonyme – 06 - LE BAR SUR LOUP\n",
            "https://candidat.pole-emploi.fr/offres/recherche/detail/193ZTTC\n",
            "\n",
            "Opérateur de production Chimie (h/f) – ADECCO – 30 - Aramon\n",
            "https://candidat.pole-emploi.fr/offres/recherche/detail/193ZPQX\n",
            "\n",
            "Professeur/Professeure de physique chimie (H/F) – COFAP-CONSEIL FORMATION ASSISTANCE PROFE – 44 - Nantes\n",
            "https://candidat.pole-emploi.fr/offres/recherche/detail/193ZPNB\n",
            "\n",
            "Technicien Contrôle Physico Chimique (h/f) – LHH – 45 - Gidy\n",
            "https://candidat.pole-emploi.fr/offres/recherche/detail/193ZPHY\n",
            "\n",
            "Technicien chimiste(h/f) – ADECCO FRANCE – 60 - Compiègne\n",
            "https://candidat.pole-emploi.fr/offres/recherche/detail/193ZMYG\n",
            "\n",
            "Professeur / Professeure de physique chimie (H/F) – Collèges Lycées généraux Châteauneuf – 26 - CHATEAUNEUF DE GALAURE\n",
            "https://candidat.pole-emploi.fr/offres/recherche/detail/193ZKFR\n",
            "\n",
            "Professeur de Physique Chimie au Lycée (H/F) – Lycée Tomer Debora – 73 - Aix-les-Bains\n",
            "https://candidat.pole-emploi.fr/offres/recherche/detail/193ZJJT\n",
            "\n",
            "Formateur en phyique/chimie (H/F) – CENTRE FORMATION APPRENTIS ACADEMIQUE – 79 - BRESSUIRE\n",
            "https://candidat.pole-emploi.fr/offres/recherche/detail/193ZCFM\n",
            "\n",
            "Conducteur routier / Conductrice routière citerne chimique ZL (H/F) – GARAGE DE LA VALLEE – 26 - CHARMES SUR L HERBASSE\n",
            "https://candidat.pole-emploi.fr/offres/recherche/detail/193YYRJ\n",
            "📧 Envoi de l’email...\n",
            "✅ Email envoyé avec succès.\n"
          ]
        }
      ]
    }
  ]
}