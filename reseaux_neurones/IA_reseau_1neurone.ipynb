{
  "cells": [
    {
      "cell_type": "markdown",
      "metadata": {
        "id": "view-in-github",
        "colab_type": "text"
      },
      "source": [
        "<a href=\"https://colab.research.google.com/github/Didier06/IA_licence_pro_chimie/blob/main/reseaux_neurones/IA_reseau_1neurone.ipynb\" target=\"_parent\"><img src=\"https://colab.research.google.com/assets/colab-badge.svg\" alt=\"Open In Colab\"/></a>"
      ]
    },
    {
      "cell_type": "markdown",
      "metadata": {
        "id": "JxMFht3RmVY3"
      },
      "source": [
        "# Votre premier réseau avec un neurone en utilisant la bibliothèque keras 2.0\n",
        "Modifiez le learning rate, le nombre d'epochs ...."
      ]
    },
    {
      "cell_type": "code",
      "source": [
        "import tensorflow as tf\n",
        "print(tf.__version__)  # Affiche la version actuelle"
      ],
      "metadata": {
        "colab": {
          "base_uri": "https://localhost:8080/"
        },
        "id": "2PB_ArYhuuFM",
        "outputId": "4f5df20e-eb7f-48a6-8892-8f802a3f157d"
      },
      "execution_count": 1,
      "outputs": [
        {
          "output_type": "stream",
          "name": "stdout",
          "text": [
            "2.18.0\n"
          ]
        }
      ]
    },
    {
      "cell_type": "code",
      "execution_count": 2,
      "metadata": {
        "colab": {
          "base_uri": "https://localhost:8080/"
        },
        "id": "qCBB3pbsmVY7",
        "outputId": "5ebfe9e5-a15d-40ff-ab0b-92ccff67e56e"
      },
      "outputs": [
        {
          "output_type": "stream",
          "name": "stdout",
          "text": [
            "2.18.0\n"
          ]
        },
        {
          "output_type": "stream",
          "name": "stderr",
          "text": [
            "/usr/local/lib/python3.11/dist-packages/keras/src/layers/core/dense.py:87: UserWarning: Do not pass an `input_shape`/`input_dim` argument to a layer. When using Sequential models, prefer using an `Input(shape)` object as the first layer in the model instead.\n",
            "  super().__init__(activity_regularizer=activity_regularizer, **kwargs)\n"
          ]
        },
        {
          "output_type": "stream",
          "name": "stdout",
          "text": [
            "Epoch 1/10\n",
            "\u001b[1m1/1\u001b[0m \u001b[32m━━━━━━━━━━━━━━━━━━━━\u001b[0m\u001b[37m\u001b[0m \u001b[1m1s\u001b[0m 1s/step - loss: 61.9817\n",
            "Epoch 2/10\n",
            "\u001b[1m1/1\u001b[0m \u001b[32m━━━━━━━━━━━━━━━━━━━━\u001b[0m\u001b[37m\u001b[0m \u001b[1m0s\u001b[0m 242ms/step - loss: 29.9485\n",
            "Epoch 3/10\n",
            "\u001b[1m1/1\u001b[0m \u001b[32m━━━━━━━━━━━━━━━━━━━━\u001b[0m\u001b[37m\u001b[0m \u001b[1m0s\u001b[0m 122ms/step - loss: 10.0104\n",
            "Epoch 4/10\n",
            "\u001b[1m1/1\u001b[0m \u001b[32m━━━━━━━━━━━━━━━━━━━━\u001b[0m\u001b[37m\u001b[0m \u001b[1m0s\u001b[0m 160ms/step - loss: 1.4247\n",
            "Epoch 5/10\n",
            "\u001b[1m1/1\u001b[0m \u001b[32m━━━━━━━━━━━━━━━━━━━━\u001b[0m\u001b[37m\u001b[0m \u001b[1m0s\u001b[0m 97ms/step - loss: 1.8789\n",
            "Epoch 6/10\n",
            "\u001b[1m1/1\u001b[0m \u001b[32m━━━━━━━━━━━━━━━━━━━━\u001b[0m\u001b[37m\u001b[0m \u001b[1m0s\u001b[0m 160ms/step - loss: 7.2052\n",
            "Epoch 7/10\n",
            "\u001b[1m1/1\u001b[0m \u001b[32m━━━━━━━━━━━━━━━━━━━━\u001b[0m\u001b[37m\u001b[0m \u001b[1m0s\u001b[0m 302ms/step - loss: 12.7092\n",
            "Epoch 8/10\n",
            "\u001b[1m1/1\u001b[0m \u001b[32m━━━━━━━━━━━━━━━━━━━━\u001b[0m\u001b[37m\u001b[0m \u001b[1m0s\u001b[0m 124ms/step - loss: 15.4015\n",
            "Epoch 9/10\n",
            "\u001b[1m1/1\u001b[0m \u001b[32m━━━━━━━━━━━━━━━━━━━━\u001b[0m\u001b[37m\u001b[0m \u001b[1m0s\u001b[0m 167ms/step - loss: 14.7081\n",
            "Epoch 10/10\n",
            "\u001b[1m1/1\u001b[0m \u001b[32m━━━━━━━━━━━━━━━━━━━━\u001b[0m\u001b[37m\u001b[0m \u001b[1m0s\u001b[0m 132ms/step - loss: 11.5864\n",
            "\n",
            "Weights: \n",
            "\n",
            "[array([[3.2085345]], dtype=float32), array([1.9540347], dtype=float32)]\n",
            "pertes : 11.586373329162598\n",
            "prédictions  :\n",
            "\n",
            "\u001b[1m1/1\u001b[0m \u001b[32m━━━━━━━━━━━━━━━━━━━━\u001b[0m\u001b[37m\u001b[0m \u001b[1m0s\u001b[0m 134ms/step\n",
            "[[21.205242]]\n",
            "\u001b[1m1/1\u001b[0m \u001b[32m━━━━━━━━━━━━━━━━━━━━\u001b[0m\u001b[37m\u001b[0m \u001b[1m0s\u001b[0m 72ms/step\n",
            "[[24.413776]]\n",
            "\u001b[1m1/1\u001b[0m \u001b[32m━━━━━━━━━━━━━━━━━━━━\u001b[0m\u001b[37m\u001b[0m \u001b[1m0s\u001b[0m 100ms/step\n",
            "[[27.62231]]\n"
          ]
        }
      ],
      "source": [
        "from keras.models import Sequential\n",
        "from keras.layers import Dense\n",
        "from keras import initializers\n",
        "from keras.optimizers import SGD, Adam\n",
        "import numpy as np\n",
        "from sklearn import preprocessing\n",
        "import tensorflow as tf\n",
        "print(tf.__version__)  # Affiche la version actuelle\n",
        "\n",
        "#my_init = initializers.Zeros()\n",
        "my_init = initializers.Ones()\n",
        "#my_init = initializers.RandomUniform(minval=0.0, maxval=1.0)\n",
        "#normalizer = preprocessing.Normalization()\n",
        "model=Sequential() # network with linear layer only\n",
        "#pour La couche d'entrée, input_shape doit être égale à 1 + couche 3 neurones units = 3\n",
        "model.add(Dense(units=1,input_shape=[1],activation= 'linear',kernel_initializer = my_init))\n",
        "\n",
        "entree=np.array([1,2,3.2,4,5,6])\n",
        "sortie=np.array([3,6,9,12,15.5,18])\n",
        "\n",
        "#Création du réseau (\"adam \"alternatif à \"sgd\")\n",
        "#opt = SGD(learning_rate=0.01) #w = w - learning_rate * gradient\n",
        "\n",
        "opt = Adam(learning_rate=0.5) # learning rate : pas d'apprentissage pour la correction de l'erreur\n",
        "model.compile(loss='mean_squared_error',optimizer=opt)\n",
        "\n",
        "#Entraînement du réseau 100 passages\n",
        "hist = model.fit(x=entree,y=sortie,epochs=10)\n",
        "\n",
        "\n",
        "\n",
        "#Print weights\n",
        "print(\"\")\n",
        "print(\"Weights: \\n\")\n",
        "print(model.get_weights())\n",
        "print(\"pertes :\",hist.history['loss'][-1])\n",
        "#Prédire les nombres\n",
        "print(\"prédictions  :\\n\")\n",
        "print(model.predict(np.array([6])))\n",
        "print(model.predict(np.array([7])))\n",
        "print(model.predict(np.array([8])))"
      ]
    }
  ],
  "metadata": {
    "kernelspec": {
      "display_name": "Python 3",
      "language": "python",
      "name": "python3"
    },
    "language_info": {
      "codemirror_mode": {
        "name": "ipython",
        "version": 3
      },
      "file_extension": ".py",
      "mimetype": "text/x-python",
      "name": "python",
      "nbconvert_exporter": "python",
      "pygments_lexer": "ipython3",
      "version": "3.11.2"
    },
    "colab": {
      "provenance": [],
      "include_colab_link": true
    }
  },
  "nbformat": 4,
  "nbformat_minor": 0
}