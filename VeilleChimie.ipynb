{
  "nbformat": 4,
  "nbformat_minor": 0,
  "metadata": {
    "colab": {
      "provenance": [],
      "include_colab_link": true
    },
    "kernelspec": {
      "name": "python3",
      "display_name": "Python 3"
    },
    "language_info": {
      "name": "python"
    }
  },
  "cells": [
    {
      "cell_type": "markdown",
      "metadata": {
        "id": "view-in-github",
        "colab_type": "text"
      },
      "source": [
        "<a href=\"https://colab.research.google.com/github/Didier06/IA_licence_pro_chimie/blob/main/VeilleChimie.ipynb\" target=\"_parent\"><img src=\"https://colab.research.google.com/assets/colab-badge.svg\" alt=\"Open In Colab\"/></a>"
      ]
    },
    {
      "cell_type": "code",
      "source": [
        "!pip install feedparser==6.0.11"
      ],
      "metadata": {
        "colab": {
          "base_uri": "https://localhost:8080/"
        },
        "id": "iKl2Q7MpwZlA",
        "outputId": "6f09a2a9-a537-4d10-eefb-368c7affebb0"
      },
      "execution_count": 1,
      "outputs": [
        {
          "output_type": "stream",
          "name": "stdout",
          "text": [
            "Collecting feedparser==6.0.11\n",
            "  Downloading feedparser-6.0.11-py3-none-any.whl.metadata (2.4 kB)\n",
            "Collecting sgmllib3k (from feedparser==6.0.11)\n",
            "  Downloading sgmllib3k-1.0.0.tar.gz (5.8 kB)\n",
            "  Preparing metadata (setup.py) ... \u001b[?25l\u001b[?25hdone\n",
            "Downloading feedparser-6.0.11-py3-none-any.whl (81 kB)\n",
            "\u001b[2K   \u001b[90m━━━━━━━━━━━━━━━━━━━━━━━━━━━━━━━━━━━━━━━━\u001b[0m \u001b[32m81.3/81.3 kB\u001b[0m \u001b[31m2.6 MB/s\u001b[0m eta \u001b[36m0:00:00\u001b[0m\n",
            "\u001b[?25hBuilding wheels for collected packages: sgmllib3k\n",
            "  Building wheel for sgmllib3k (setup.py) ... \u001b[?25l\u001b[?25hdone\n",
            "  Created wheel for sgmllib3k: filename=sgmllib3k-1.0.0-py3-none-any.whl size=6046 sha256=ac70db3599b2c6db66116d4533a28b1d74ec7472d02b76b1d58209e4ddd95448\n",
            "  Stored in directory: /root/.cache/pip/wheels/3b/25/2a/105d6a15df6914f4d15047691c6c28f9052cc1173e40285d03\n",
            "Successfully built sgmllib3k\n",
            "Installing collected packages: sgmllib3k, feedparser\n",
            "Successfully installed feedparser-6.0.11 sgmllib3k-1.0.0\n"
          ]
        }
      ]
    },
    {
      "cell_type": "code",
      "execution_count": 2,
      "metadata": {
        "id": "DUwbFzBVwDKN"
      },
      "outputs": [],
      "source": [
        "import feedparser\n",
        "import smtplib\n",
        "from email.mime.multipart import MIMEMultipart\n",
        "from email.mime.text import MIMEText\n",
        "from datetime import date, datetime\n",
        "import openai\n",
        "import requests\n",
        "import os\n",
        "import urllib.parse"
      ]
    },
    {
      "cell_type": "code",
      "source": [
        "# CONFIGURATION\n",
        "openai.api_key = \"sk-proj-xxxxxxx\"  # Remplace par ta vraie clé OpenAI\n",
        "# pour obtenir un clé openai https://platform.openai.com/settings/organization/api-keys\n",
        "GMAIL_USER = \"votremail@gmail.com\" # votre email\n",
        "GMAIL_APP_PASSWORD = \"xxxxxxxxxxx\" # # pour créer un mot de passe application avec gmail : https://myaccount.google.com/apppasswords\n",
        "\n",
        "DESTINATAIRES = [\"destinataire1@gmail.com\", \"destinataire2@gmail.com\"]\n",
        "DOSSIER_SAUVEGARDE = \"veille_sauvegardes_sensors\"\n",
        "LOG_FILE = \"veille_log.txt\""
      ],
      "metadata": {
        "id": "zfvhHBMuwL6D"
      },
      "execution_count": 3,
      "outputs": []
    },
    {
      "cell_type": "code",
      "source": [
        "# FONCTIONS\n",
        "\n",
        "def get_arxiv_articles(query=\"arduino OR sensor chemical OR detection\", max_results=5):\n",
        "    encoded_query = urllib.parse.quote(query)\n",
        "    url = f\"http://export.arxiv.org/api/query?search_query=all:{encoded_query}&start=0&max_results={max_results}&sortBy=lastUpdatedDate\"\n",
        "    feed = feedparser.parse(url)\n",
        "    return [(entry.title, entry.link, entry.summary) for entry in feed.entries]\n",
        "\n",
        "def get_pubchem_trending():\n",
        "    url = \"https://pubchem.ncbi.nlm.nih.gov/rest/pug/compound/fastidentity/listkey/JSON\"\n",
        "    try:\n",
        "        r = requests.get(url, timeout=10)\n",
        "        if r.status_code == 200:\n",
        "            return [\"Résultats PubChem à ajouter manuellement\"]\n",
        "    except Exception:\n",
        "        pass\n",
        "    return []\n",
        "\n",
        "def get_cen_articles():\n",
        "    rss_url = \"https://cen.acs.org/content/cen/en/news.html.rss\"\n",
        "    feed = feedparser.parse(rss_url)\n",
        "    return [(entry.title, entry.link, entry.summary) for entry in feed.entries[:5]]\n",
        "\n",
        "def get_techcrunch_articles():\n",
        "    rss_url = \"https://techcrunch.com/tag/chemical/feed/\"\n",
        "    feed = feedparser.parse(rss_url)\n",
        "    return [(entry.title, entry.link, entry.summary) for entry in feed.entries[:5]]\n",
        "\n",
        "def get_maker_articles():\n",
        "    rss_url = \"https://makezine.com/category/electronics/feed/\"\n",
        "    feed = feedparser.parse(rss_url)\n",
        "    return [(entry.title, entry.link, entry.summary) for entry in feed.entries[:5]]\n",
        "\n",
        "def resume_article(title, summary):\n",
        "    prompt = f\"\"\"Tu es un veilleur technologique pour un laboratoire de chimie.\n",
        "Résume cet article en 3 phrases et précise s’il peut aider à détecter ou mesurer quelque chose en chimie avec un Arduino ou un capteur simple.\n",
        "Titre : {title}\n",
        "Résumé : {summary}\"\"\"\n",
        "    try:\n",
        "        response = openai.ChatCompletion.create(\n",
        "            model=\"gpt-4\",\n",
        "            messages=[{\"role\": \"user\", \"content\": prompt}],\n",
        "            temperature=0.5,\n",
        "            max_tokens=300\n",
        "        )\n",
        "        return response.choices[0].message.content.strip()\n",
        "    except Exception as e:\n",
        "        return f\"Erreur GPT : {e}\"\n"
      ],
      "metadata": {
        "id": "tC_V1ayawrbq"
      },
      "execution_count": 4,
      "outputs": []
    },
    {
      "cell_type": "code",
      "source": [
        "def build_html_report():\n",
        "    html = f\"<h2>Envoye par votre assistant IA : capteurs Arduino en Chimie - {date.today().strftime('%d %B %Y')}</h2>\"\n",
        "\n",
        "    sources = {\n",
        "        \"ArXiv (Capteurs Arduino & Chimie)\": get_arxiv_articles(),\n",
        "        \"C&EN (Industrie chimique)\": get_cen_articles(),\n",
        "        \"TechCrunch (Startups chimiques)\": get_techcrunch_articles(),\n",
        "        \"PubChem (Données moléculaires)\": [(t, \"\", \"\") for t in get_pubchem_trending()],\n",
        "        \"Makers / Capteurs Arduino\": get_maker_articles()\n",
        "    }\n",
        "\n",
        "    for nom_source, articles in sources.items():\n",
        "        html += f\"<h3>{nom_source}</h3><ul>\"\n",
        "        for titre, lien, resume in articles:\n",
        "            synthese = resume_article(titre, resume)\n",
        "            html += f\"<li><b>{titre}</b><br><a href='{lien}'>{lien}</a><br>{synthese}</li><br>\"\n",
        "        html += \"</ul>\"\n",
        "    return html\n",
        "\n",
        "def sauvegarder_html_local(html):\n",
        "    os.makedirs(DOSSIER_SAUVEGARDE, exist_ok=True)\n",
        "    nom_fichier = f\"veille_{date.today().isoformat()}.html\"\n",
        "    chemin_complet = os.path.join(DOSSIER_SAUVEGARDE, nom_fichier)\n",
        "    with open(chemin_complet, \"w\", encoding=\"utf-8\") as f:\n",
        "        f.write(html)\n",
        "    return chemin_complet\n",
        "\n",
        "def enregistrer_log(chemin_html):\n",
        "    horodatage = datetime.now().strftime(\"%Y-%m-%d %H:%M:%S\")\n",
        "    with open(LOG_FILE, \"a\", encoding=\"utf-8\") as f:\n",
        "        f.write(f\"[{horodatage}] Veille envoyée - Fichier : {chemin_html}\\n\")\n",
        "\n",
        "def envoyer_email(html_content):\n",
        "    msg = MIMEMultipart('alternative')\n",
        "    msg['Subject'] = \"[Veille Chimie] Rapport hebdo\"\n",
        "    msg['From'] = GMAIL_USER\n",
        "    msg['To'] = \", \".join(DESTINATAIRES)\n",
        "\n",
        "    part = MIMEText(html_content, 'html')\n",
        "    msg.attach(part)\n",
        "\n",
        "    server = smtplib.SMTP_SSL('smtp.gmail.com', 465)\n",
        "    server.login(GMAIL_USER, GMAIL_APP_PASSWORD)\n",
        "    server.sendmail(GMAIL_USER, DESTINATAIRES, msg.as_string())\n",
        "    server.quit()\n",
        "\n",
        "# MAIN\n",
        "if __name__ == \"__main__\":\n",
        "    contenu_html = build_html_report()\n",
        "    chemin_html = sauvegarder_html_local(contenu_html)\n",
        "    enregistrer_log(chemin_html)\n",
        "    envoyer_email(contenu_html)\n",
        "    print(\"Veille envoyée avec succès.\")\n"
      ],
      "metadata": {
        "colab": {
          "base_uri": "https://localhost:8080/"
        },
        "id": "w5DqqrcPw3C3",
        "outputId": "65be261f-c3bc-4199-81cc-561813f40804"
      },
      "execution_count": 5,
      "outputs": [
        {
          "output_type": "stream",
          "name": "stdout",
          "text": [
            "Veille envoyée avec succès.\n"
          ]
        }
      ]
    }
  ]
}