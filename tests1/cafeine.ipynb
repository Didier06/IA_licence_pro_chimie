{
  "cells": [
    {
      "cell_type": "markdown",
      "metadata": {
        "id": "view-in-github",
        "colab_type": "text"
      },
      "source": [
        "<a href=\"https://colab.research.google.com/github/Didier06/IA_licence_pro_chimie/blob/main/tests1/cafeine.ipynb\" target=\"_parent\"><img src=\"https://colab.research.google.com/assets/colab-badge.svg\" alt=\"Open In Colab\"/></a>"
      ]
    },
    {
      "cell_type": "markdown",
      "metadata": {
        "id": "oMxQIhMlGzc7"
      },
      "source": [
        "**CAFEINE**"
      ]
    },
    {
      "cell_type": "code",
      "execution_count": 5,
      "metadata": {
        "id": "OOrk9v6rGzc-",
        "outputId": "32b40bf4-0bef-49cc-ca1c-4b7bc8dc86c3",
        "colab": {
          "base_uri": "https://localhost:8080/"
        }
      },
      "outputs": [
        {
          "output_type": "stream",
          "name": "stdout",
          "text": [
            "Requirement already satisfied: rdkit in /usr/local/lib/python3.11/dist-packages (2024.9.6)\n",
            "Requirement already satisfied: numpy in /usr/local/lib/python3.11/dist-packages (from rdkit) (1.26.4)\n",
            "Requirement already satisfied: Pillow in /usr/local/lib/python3.11/dist-packages (from rdkit) (11.1.0)\n",
            "Requirement already satisfied: py3Dmol in /usr/local/lib/python3.11/dist-packages (2.4.2)\n"
          ]
        }
      ],
      "source": [
        "# Importation des bibliothèques nécessaires\n",
        "!pip install rdkit\n",
        "!pip install py3Dmol\n",
        "import rdkit\n",
        "from rdkit import Chem\n",
        "from rdkit.Chem import AllChem\n",
        "import py3Dmol"
      ]
    },
    {
      "cell_type": "code",
      "execution_count": 6,
      "metadata": {
        "id": "eHtks3eVGzc_",
        "outputId": "bb89b932-7686-460e-cfdf-06edd4da6e42",
        "colab": {
          "base_uri": "https://localhost:8080/",
          "height": 317
        }
      },
      "outputs": [
        {
          "output_type": "display_data",
          "data": {
            "application/3dmoljs_load.v0": "<div id=\"3dmolviewer_17423160145674288\"  style=\"position: relative; width: 400px; height: 300px;\">\n        <p id=\"3dmolwarning_17423160145674288\" style=\"background-color:#ffcccc;color:black\">3Dmol.js failed to load for some reason.  Please check your browser console for error messages.<br></p>\n        </div>\n<script>\n\nvar loadScriptAsync = function(uri){\n  return new Promise((resolve, reject) => {\n    //this is to ignore the existence of requirejs amd\n    var savedexports, savedmodule;\n    if (typeof exports !== 'undefined') savedexports = exports;\n    else exports = {}\n    if (typeof module !== 'undefined') savedmodule = module;\n    else module = {}\n\n    var tag = document.createElement('script');\n    tag.src = uri;\n    tag.async = true;\n    tag.onload = () => {\n        exports = savedexports;\n        module = savedmodule;\n        resolve();\n    };\n  var firstScriptTag = document.getElementsByTagName('script')[0];\n  firstScriptTag.parentNode.insertBefore(tag, firstScriptTag);\n});\n};\n\nif(typeof $3Dmolpromise === 'undefined') {\n$3Dmolpromise = null;\n  $3Dmolpromise = loadScriptAsync('https://cdnjs.cloudflare.com/ajax/libs/3Dmol/2.4.2/3Dmol-min.js');\n}\n\nvar viewer_17423160145674288 = null;\nvar warn = document.getElementById(\"3dmolwarning_17423160145674288\");\nif(warn) {\n    warn.parentNode.removeChild(warn);\n}\n$3Dmolpromise.then(function() {\nviewer_17423160145674288 = $3Dmol.createViewer(document.getElementById(\"3dmolviewer_17423160145674288\"),{backgroundColor:\"white\"});\nviewer_17423160145674288.zoomTo();\n\tviewer_17423160145674288.addModel(\"HETATM    1  C1  UNL     1       3.270   0.604  -0.227  1.00  0.00           C  \\nHETATM    2  N1  UNL     1       2.125  -0.269  -0.278  1.00  0.00           N  \\nHETATM    3  C2  UNL     1       2.143  -1.613  -0.545  1.00  0.00           C  \\nHETATM    4  N2  UNL     1       0.931  -2.130  -0.519  1.00  0.00           N  \\nHETATM    5  C3  UNL     1       0.119  -1.077  -0.225  1.00  0.00           C  \\nHETATM    6  C4  UNL     1       0.821   0.080  -0.071  1.00  0.00           C  \\nHETATM    7  C5  UNL     1       0.212   1.326   0.239  1.00  0.00           C  \\nHETATM    8  O1  UNL     1       0.854   2.363   0.376  1.00  0.00           O  \\nHETATM    9  N3  UNL     1      -1.177   1.231   0.368  1.00  0.00           N  \\nHETATM   10  C6  UNL     1      -1.939   0.054   0.216  1.00  0.00           C  \\nHETATM   11  O2  UNL     1      -3.167   0.072   0.349  1.00  0.00           O  \\nHETATM   12  N4  UNL     1      -1.247  -1.119  -0.089  1.00  0.00           N  \\nHETATM   13  C7  UNL     1      -1.957  -2.373  -0.261  1.00  0.00           C  \\nHETATM   14  C8  UNL     1      -1.917   2.437   0.684  1.00  0.00           C  \\nHETATM   15  H1  UNL     1       4.176   0.030  -0.436  1.00  0.00           H  \\nHETATM   16  H2  UNL     1       3.146   1.385  -0.981  1.00  0.00           H  \\nHETATM   17  H3  UNL     1       3.332   1.038   0.774  1.00  0.00           H  \\nHETATM   18  H4  UNL     1       3.055  -2.160  -0.749  1.00  0.00           H  \\nHETATM   19  H5  UNL     1      -1.589  -3.096   0.473  1.00  0.00           H  \\nHETATM   20  H6  UNL     1      -3.035  -2.254  -0.124  1.00  0.00           H  \\nHETATM   21  H7  UNL     1      -1.774  -2.751  -1.272  1.00  0.00           H  \\nHETATM   22  H8  UNL     1      -2.462   2.284   1.621  1.00  0.00           H  \\nHETATM   23  H9  UNL     1      -2.646   2.626  -0.112  1.00  0.00           H  \\nHETATM   24  H10 UNL     1      -1.272   3.312   0.788  1.00  0.00           H  \\nCONECT    1    2   15   16   17\\nCONECT    2    3    6\\nCONECT    3    4    4   18\\nCONECT    4    5\\nCONECT    5    6    6   12\\nCONECT    6    7\\nCONECT    7    8    8    9\\nCONECT    9   10   14\\nCONECT   10   11   11   12\\nCONECT   12   13\\nCONECT   13   19   20   21\\nCONECT   14   22   23   24\\nEND\\n\",\"pdb\");\n\tviewer_17423160145674288.setStyle({\"stick\": {}});\n\tviewer_17423160145674288.setBackgroundColor(\"0xeeeeee\");\n\tviewer_17423160145674288.zoomTo();\nviewer_17423160145674288.render();\n});\n</script>",
            "text/html": [
              "<div id=\"3dmolviewer_17423160145674288\"  style=\"position: relative; width: 400px; height: 300px;\">\n",
              "        <p id=\"3dmolwarning_17423160145674288\" style=\"background-color:#ffcccc;color:black\">3Dmol.js failed to load for some reason.  Please check your browser console for error messages.<br></p>\n",
              "        </div>\n",
              "<script>\n",
              "\n",
              "var loadScriptAsync = function(uri){\n",
              "  return new Promise((resolve, reject) => {\n",
              "    //this is to ignore the existence of requirejs amd\n",
              "    var savedexports, savedmodule;\n",
              "    if (typeof exports !== 'undefined') savedexports = exports;\n",
              "    else exports = {}\n",
              "    if (typeof module !== 'undefined') savedmodule = module;\n",
              "    else module = {}\n",
              "\n",
              "    var tag = document.createElement('script');\n",
              "    tag.src = uri;\n",
              "    tag.async = true;\n",
              "    tag.onload = () => {\n",
              "        exports = savedexports;\n",
              "        module = savedmodule;\n",
              "        resolve();\n",
              "    };\n",
              "  var firstScriptTag = document.getElementsByTagName('script')[0];\n",
              "  firstScriptTag.parentNode.insertBefore(tag, firstScriptTag);\n",
              "});\n",
              "};\n",
              "\n",
              "if(typeof $3Dmolpromise === 'undefined') {\n",
              "$3Dmolpromise = null;\n",
              "  $3Dmolpromise = loadScriptAsync('https://cdnjs.cloudflare.com/ajax/libs/3Dmol/2.4.2/3Dmol-min.js');\n",
              "}\n",
              "\n",
              "var viewer_17423160145674288 = null;\n",
              "var warn = document.getElementById(\"3dmolwarning_17423160145674288\");\n",
              "if(warn) {\n",
              "    warn.parentNode.removeChild(warn);\n",
              "}\n",
              "$3Dmolpromise.then(function() {\n",
              "viewer_17423160145674288 = $3Dmol.createViewer(document.getElementById(\"3dmolviewer_17423160145674288\"),{backgroundColor:\"white\"});\n",
              "viewer_17423160145674288.zoomTo();\n",
              "\tviewer_17423160145674288.addModel(\"HETATM    1  C1  UNL     1       3.270   0.604  -0.227  1.00  0.00           C  \\nHETATM    2  N1  UNL     1       2.125  -0.269  -0.278  1.00  0.00           N  \\nHETATM    3  C2  UNL     1       2.143  -1.613  -0.545  1.00  0.00           C  \\nHETATM    4  N2  UNL     1       0.931  -2.130  -0.519  1.00  0.00           N  \\nHETATM    5  C3  UNL     1       0.119  -1.077  -0.225  1.00  0.00           C  \\nHETATM    6  C4  UNL     1       0.821   0.080  -0.071  1.00  0.00           C  \\nHETATM    7  C5  UNL     1       0.212   1.326   0.239  1.00  0.00           C  \\nHETATM    8  O1  UNL     1       0.854   2.363   0.376  1.00  0.00           O  \\nHETATM    9  N3  UNL     1      -1.177   1.231   0.368  1.00  0.00           N  \\nHETATM   10  C6  UNL     1      -1.939   0.054   0.216  1.00  0.00           C  \\nHETATM   11  O2  UNL     1      -3.167   0.072   0.349  1.00  0.00           O  \\nHETATM   12  N4  UNL     1      -1.247  -1.119  -0.089  1.00  0.00           N  \\nHETATM   13  C7  UNL     1      -1.957  -2.373  -0.261  1.00  0.00           C  \\nHETATM   14  C8  UNL     1      -1.917   2.437   0.684  1.00  0.00           C  \\nHETATM   15  H1  UNL     1       4.176   0.030  -0.436  1.00  0.00           H  \\nHETATM   16  H2  UNL     1       3.146   1.385  -0.981  1.00  0.00           H  \\nHETATM   17  H3  UNL     1       3.332   1.038   0.774  1.00  0.00           H  \\nHETATM   18  H4  UNL     1       3.055  -2.160  -0.749  1.00  0.00           H  \\nHETATM   19  H5  UNL     1      -1.589  -3.096   0.473  1.00  0.00           H  \\nHETATM   20  H6  UNL     1      -3.035  -2.254  -0.124  1.00  0.00           H  \\nHETATM   21  H7  UNL     1      -1.774  -2.751  -1.272  1.00  0.00           H  \\nHETATM   22  H8  UNL     1      -2.462   2.284   1.621  1.00  0.00           H  \\nHETATM   23  H9  UNL     1      -2.646   2.626  -0.112  1.00  0.00           H  \\nHETATM   24  H10 UNL     1      -1.272   3.312   0.788  1.00  0.00           H  \\nCONECT    1    2   15   16   17\\nCONECT    2    3    6\\nCONECT    3    4    4   18\\nCONECT    4    5\\nCONECT    5    6    6   12\\nCONECT    6    7\\nCONECT    7    8    8    9\\nCONECT    9   10   14\\nCONECT   10   11   11   12\\nCONECT   12   13\\nCONECT   13   19   20   21\\nCONECT   14   22   23   24\\nEND\\n\",\"pdb\");\n",
              "\tviewer_17423160145674288.setStyle({\"stick\": {}});\n",
              "\tviewer_17423160145674288.setBackgroundColor(\"0xeeeeee\");\n",
              "\tviewer_17423160145674288.zoomTo();\n",
              "viewer_17423160145674288.render();\n",
              "});\n",
              "</script>"
            ]
          },
          "metadata": {}
        }
      ],
      "source": [
        "# Définir la structure SMILES de la caféine\n",
        "caffeine_smiles = \"CN1C=NC2=C1C(=O)N(C(=O)N2C)C\"\n",
        "\n",
        "# Convertir la chaîne SMILES en molécule\n",
        "caffeine_mol = Chem.MolFromSmiles(caffeine_smiles)\n",
        "\n",
        "\n",
        "# Ajout des atomes d'hydrogène et génération des coordonnées 3D\n",
        "caffeine_mol = Chem.AddHs(caffeine_mol)\n",
        "AllChem.EmbedMolecule(caffeine_mol)\n",
        "AllChem.MMFFOptimizeMolecule(caffeine_mol)\n",
        "\n",
        "# Conversion de la molécule RDKit en format PDB\n",
        "caffeine_pdb = Chem.MolToPDBBlock(caffeine_mol)\n",
        "\n",
        "# Dessiner la molécule\n",
        "# Affichage de la molécule en 3D avec py3Dmol\n",
        "view = py3Dmol.view(width=400, height=300)\n",
        "view.addModel(caffeine_pdb, 'pdb')\n",
        "view.setStyle({'stick': {}})\n",
        "view.setBackgroundColor('0xeeeeee')\n",
        "view.zoomTo()\n",
        "view.show()"
      ]
    }
  ],
  "metadata": {
    "kernelspec": {
      "display_name": "Python 3",
      "language": "python",
      "name": "python3"
    },
    "language_info": {
      "name": "python",
      "version": "3.11.2"
    },
    "colab": {
      "provenance": [],
      "include_colab_link": true
    }
  },
  "nbformat": 4,
  "nbformat_minor": 0
}