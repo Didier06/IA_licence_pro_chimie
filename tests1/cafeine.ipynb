{
 "cells": [
  {
   "cell_type": "markdown",
   "metadata": {},
   "source": [
    "CAFEINE"
   ]
  },
  {
   "cell_type": "code",
   "execution_count": null,
   "metadata": {},
   "outputs": [],
   "source": [
    "# Importation des bibliothèques nécessaires\n",
    "!pip install rdkit\n",
    "!pip install py3Dmol\n",
    "import rdkit\n",
    "from rdkit import Chem\n",
    "from rdkit.Chem import AllChem\n",
    "import py3Dmol"
   ]
  },
  {
   "cell_type": "code",
   "execution_count": null,
   "metadata": {},
   "outputs": [],
   "source": [
    "# Définir la structure SMILES de la caféine\n",
    "caffeine_smiles = \"CN1C=NC2=C1C(=O)N(C(=O)N2C)C\"\n",
    "\n",
    "# Convertir la chaîne SMILES en molécule\n",
    "caffeine_mol = Chem.MolFromSmiles(caffeine_smiles)\n",
    "\n",
    "# Dessiner la molécule\n",
    "img = Draw.MolToImage(caffeine_mol)\n",
    "\n",
    "# Afficher l'image\n",
    "img.show()"
   ]
  }
 ],
 "metadata": {
  "kernelspec": {
   "display_name": "Python 3",
   "language": "python",
   "name": "python3"
  },
  "language_info": {
   "name": "python",
   "version": "3.11.2"
  }
 },
 "nbformat": 4,
 "nbformat_minor": 2
}
