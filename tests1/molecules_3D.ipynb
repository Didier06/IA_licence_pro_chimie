{
  "cells": [
    {
      "cell_type": "markdown",
      "metadata": {
        "id": "view-in-github",
        "colab_type": "text"
      },
      "source": [
        "<a href=\"https://colab.research.google.com/github/Didier06/IA_licence_pro_chimie/blob/main/tests1/molecules_3D.ipynb\" target=\"_parent\"><img src=\"https://colab.research.google.com/assets/colab-badge.svg\" alt=\"Open In Colab\"/></a>"
      ]
    },
    {
      "cell_type": "markdown",
      "metadata": {
        "id": "vOe1AehcElOT"
      },
      "source": [
        "# Molécule caféïne"
      ]
    },
    {
      "cell_type": "markdown",
      "metadata": {
        "id": "9038XgHiElOV"
      },
      "source": []
    },
    {
      "cell_type": "code",
      "execution_count": 4,
      "metadata": {
        "id": "-xPqPloqElOV",
        "outputId": "3a69cc73-e6da-4e49-9854-4d4a8924c95c",
        "colab": {
          "base_uri": "https://localhost:8080/",
          "height": 456
        }
      },
      "outputs": [
        {
          "output_type": "stream",
          "name": "stdout",
          "text": [
            "Requirement already satisfied: rdkit in /usr/local/lib/python3.11/dist-packages (2024.9.6)\n",
            "Requirement already satisfied: numpy in /usr/local/lib/python3.11/dist-packages (from rdkit) (2.0.2)\n",
            "Requirement already satisfied: Pillow in /usr/local/lib/python3.11/dist-packages (from rdkit) (11.1.0)\n",
            "Collecting py3Dmol\n",
            "  Downloading py3Dmol-2.4.2-py2.py3-none-any.whl.metadata (1.9 kB)\n",
            "Downloading py3Dmol-2.4.2-py2.py3-none-any.whl (7.0 kB)\n",
            "Installing collected packages: py3Dmol\n",
            "Successfully installed py3Dmol-2.4.2\n"
          ]
        },
        {
          "output_type": "display_data",
          "data": {
            "application/3dmoljs_load.v0": "<div id=\"3dmolviewer_17423153045902658\"  style=\"position: relative; width: 400px; height: 300px;\">\n        <p id=\"3dmolwarning_17423153045902658\" style=\"background-color:#ffcccc;color:black\">3Dmol.js failed to load for some reason.  Please check your browser console for error messages.<br></p>\n        </div>\n<script>\n\nvar loadScriptAsync = function(uri){\n  return new Promise((resolve, reject) => {\n    //this is to ignore the existence of requirejs amd\n    var savedexports, savedmodule;\n    if (typeof exports !== 'undefined') savedexports = exports;\n    else exports = {}\n    if (typeof module !== 'undefined') savedmodule = module;\n    else module = {}\n\n    var tag = document.createElement('script');\n    tag.src = uri;\n    tag.async = true;\n    tag.onload = () => {\n        exports = savedexports;\n        module = savedmodule;\n        resolve();\n    };\n  var firstScriptTag = document.getElementsByTagName('script')[0];\n  firstScriptTag.parentNode.insertBefore(tag, firstScriptTag);\n});\n};\n\nif(typeof $3Dmolpromise === 'undefined') {\n$3Dmolpromise = null;\n  $3Dmolpromise = loadScriptAsync('https://cdnjs.cloudflare.com/ajax/libs/3Dmol/2.4.2/3Dmol-min.js');\n}\n\nvar viewer_17423153045902658 = null;\nvar warn = document.getElementById(\"3dmolwarning_17423153045902658\");\nif(warn) {\n    warn.parentNode.removeChild(warn);\n}\n$3Dmolpromise.then(function() {\nviewer_17423153045902658 = $3Dmol.createViewer(document.getElementById(\"3dmolviewer_17423153045902658\"),{backgroundColor:\"white\"});\nviewer_17423153045902658.zoomTo();\n\tviewer_17423153045902658.addModel(\"HETATM    1  C1  UNL     1       3.270   0.604  -0.227  1.00  0.00           C  \\nHETATM    2  N1  UNL     1       2.125  -0.269  -0.278  1.00  0.00           N  \\nHETATM    3  C2  UNL     1       2.143  -1.613  -0.545  1.00  0.00           C  \\nHETATM    4  N2  UNL     1       0.931  -2.130  -0.519  1.00  0.00           N  \\nHETATM    5  C3  UNL     1       0.119  -1.077  -0.225  1.00  0.00           C  \\nHETATM    6  C4  UNL     1       0.821   0.080  -0.071  1.00  0.00           C  \\nHETATM    7  C5  UNL     1       0.212   1.326   0.239  1.00  0.00           C  \\nHETATM    8  O1  UNL     1       0.854   2.363   0.376  1.00  0.00           O  \\nHETATM    9  N3  UNL     1      -1.177   1.231   0.368  1.00  0.00           N  \\nHETATM   10  C6  UNL     1      -1.939   0.054   0.216  1.00  0.00           C  \\nHETATM   11  O2  UNL     1      -3.167   0.072   0.349  1.00  0.00           O  \\nHETATM   12  N4  UNL     1      -1.247  -1.119  -0.089  1.00  0.00           N  \\nHETATM   13  C7  UNL     1      -1.957  -2.373  -0.261  1.00  0.00           C  \\nHETATM   14  C8  UNL     1      -1.917   2.437   0.684  1.00  0.00           C  \\nHETATM   15  H1  UNL     1       4.176   0.030  -0.436  1.00  0.00           H  \\nHETATM   16  H2  UNL     1       3.146   1.385  -0.981  1.00  0.00           H  \\nHETATM   17  H3  UNL     1       3.332   1.038   0.774  1.00  0.00           H  \\nHETATM   18  H4  UNL     1       3.055  -2.160  -0.749  1.00  0.00           H  \\nHETATM   19  H5  UNL     1      -1.589  -3.096   0.473  1.00  0.00           H  \\nHETATM   20  H6  UNL     1      -3.035  -2.254  -0.124  1.00  0.00           H  \\nHETATM   21  H7  UNL     1      -1.774  -2.751  -1.272  1.00  0.00           H  \\nHETATM   22  H8  UNL     1      -2.462   2.284   1.621  1.00  0.00           H  \\nHETATM   23  H9  UNL     1      -2.646   2.626  -0.112  1.00  0.00           H  \\nHETATM   24  H10 UNL     1      -1.272   3.312   0.788  1.00  0.00           H  \\nCONECT    1    2   15   16   17\\nCONECT    2    3    6\\nCONECT    3    4    4   18\\nCONECT    4    5\\nCONECT    5    6    6   12\\nCONECT    6    7\\nCONECT    7    8    8    9\\nCONECT    9   10   14\\nCONECT   10   11   11   12\\nCONECT   12   13\\nCONECT   13   19   20   21\\nCONECT   14   22   23   24\\nEND\\n\",\"pdb\");\n\tviewer_17423153045902658.setStyle({\"stick\": {}});\n\tviewer_17423153045902658.setBackgroundColor(\"0xeeeeee\");\n\tviewer_17423153045902658.zoomTo();\nviewer_17423153045902658.render();\n});\n</script>",
            "text/html": [
              "<div id=\"3dmolviewer_17423153045902658\"  style=\"position: relative; width: 400px; height: 300px;\">\n",
              "        <p id=\"3dmolwarning_17423153045902658\" style=\"background-color:#ffcccc;color:black\">3Dmol.js failed to load for some reason.  Please check your browser console for error messages.<br></p>\n",
              "        </div>\n",
              "<script>\n",
              "\n",
              "var loadScriptAsync = function(uri){\n",
              "  return new Promise((resolve, reject) => {\n",
              "    //this is to ignore the existence of requirejs amd\n",
              "    var savedexports, savedmodule;\n",
              "    if (typeof exports !== 'undefined') savedexports = exports;\n",
              "    else exports = {}\n",
              "    if (typeof module !== 'undefined') savedmodule = module;\n",
              "    else module = {}\n",
              "\n",
              "    var tag = document.createElement('script');\n",
              "    tag.src = uri;\n",
              "    tag.async = true;\n",
              "    tag.onload = () => {\n",
              "        exports = savedexports;\n",
              "        module = savedmodule;\n",
              "        resolve();\n",
              "    };\n",
              "  var firstScriptTag = document.getElementsByTagName('script')[0];\n",
              "  firstScriptTag.parentNode.insertBefore(tag, firstScriptTag);\n",
              "});\n",
              "};\n",
              "\n",
              "if(typeof $3Dmolpromise === 'undefined') {\n",
              "$3Dmolpromise = null;\n",
              "  $3Dmolpromise = loadScriptAsync('https://cdnjs.cloudflare.com/ajax/libs/3Dmol/2.4.2/3Dmol-min.js');\n",
              "}\n",
              "\n",
              "var viewer_17423153045902658 = null;\n",
              "var warn = document.getElementById(\"3dmolwarning_17423153045902658\");\n",
              "if(warn) {\n",
              "    warn.parentNode.removeChild(warn);\n",
              "}\n",
              "$3Dmolpromise.then(function() {\n",
              "viewer_17423153045902658 = $3Dmol.createViewer(document.getElementById(\"3dmolviewer_17423153045902658\"),{backgroundColor:\"white\"});\n",
              "viewer_17423153045902658.zoomTo();\n",
              "\tviewer_17423153045902658.addModel(\"HETATM    1  C1  UNL     1       3.270   0.604  -0.227  1.00  0.00           C  \\nHETATM    2  N1  UNL     1       2.125  -0.269  -0.278  1.00  0.00           N  \\nHETATM    3  C2  UNL     1       2.143  -1.613  -0.545  1.00  0.00           C  \\nHETATM    4  N2  UNL     1       0.931  -2.130  -0.519  1.00  0.00           N  \\nHETATM    5  C3  UNL     1       0.119  -1.077  -0.225  1.00  0.00           C  \\nHETATM    6  C4  UNL     1       0.821   0.080  -0.071  1.00  0.00           C  \\nHETATM    7  C5  UNL     1       0.212   1.326   0.239  1.00  0.00           C  \\nHETATM    8  O1  UNL     1       0.854   2.363   0.376  1.00  0.00           O  \\nHETATM    9  N3  UNL     1      -1.177   1.231   0.368  1.00  0.00           N  \\nHETATM   10  C6  UNL     1      -1.939   0.054   0.216  1.00  0.00           C  \\nHETATM   11  O2  UNL     1      -3.167   0.072   0.349  1.00  0.00           O  \\nHETATM   12  N4  UNL     1      -1.247  -1.119  -0.089  1.00  0.00           N  \\nHETATM   13  C7  UNL     1      -1.957  -2.373  -0.261  1.00  0.00           C  \\nHETATM   14  C8  UNL     1      -1.917   2.437   0.684  1.00  0.00           C  \\nHETATM   15  H1  UNL     1       4.176   0.030  -0.436  1.00  0.00           H  \\nHETATM   16  H2  UNL     1       3.146   1.385  -0.981  1.00  0.00           H  \\nHETATM   17  H3  UNL     1       3.332   1.038   0.774  1.00  0.00           H  \\nHETATM   18  H4  UNL     1       3.055  -2.160  -0.749  1.00  0.00           H  \\nHETATM   19  H5  UNL     1      -1.589  -3.096   0.473  1.00  0.00           H  \\nHETATM   20  H6  UNL     1      -3.035  -2.254  -0.124  1.00  0.00           H  \\nHETATM   21  H7  UNL     1      -1.774  -2.751  -1.272  1.00  0.00           H  \\nHETATM   22  H8  UNL     1      -2.462   2.284   1.621  1.00  0.00           H  \\nHETATM   23  H9  UNL     1      -2.646   2.626  -0.112  1.00  0.00           H  \\nHETATM   24  H10 UNL     1      -1.272   3.312   0.788  1.00  0.00           H  \\nCONECT    1    2   15   16   17\\nCONECT    2    3    6\\nCONECT    3    4    4   18\\nCONECT    4    5\\nCONECT    5    6    6   12\\nCONECT    6    7\\nCONECT    7    8    8    9\\nCONECT    9   10   14\\nCONECT   10   11   11   12\\nCONECT   12   13\\nCONECT   13   19   20   21\\nCONECT   14   22   23   24\\nEND\\n\",\"pdb\");\n",
              "\tviewer_17423153045902658.setStyle({\"stick\": {}});\n",
              "\tviewer_17423153045902658.setBackgroundColor(\"0xeeeeee\");\n",
              "\tviewer_17423153045902658.zoomTo();\n",
              "viewer_17423153045902658.render();\n",
              "});\n",
              "</script>"
            ]
          },
          "metadata": {}
        }
      ],
      "source": [
        "# Importation des bibliothèques nécessaires\n",
        "!pip install rdkit\n",
        "!pip install py3Dmol\n",
        "import rdkit\n",
        "from rdkit import Chem\n",
        "from rdkit.Chem import AllChem\n",
        "import py3Dmol\n",
        "\n",
        "# Définition de la molécule de caféine en format SMILES\n",
        "caffeine_smiles = \"CN1C=NC2=C1C(=O)N(C(=O)N2C)C\"\n",
        "\n",
        "# Conversion de la chaîne SMILES en molécule RDKit\n",
        "caffeine_mol = Chem.MolFromSmiles(caffeine_smiles)\n",
        "\n",
        "# Ajout des atomes d'hydrogène et génération des coordonnées 3D\n",
        "caffeine_mol = Chem.AddHs(caffeine_mol)\n",
        "AllChem.EmbedMolecule(caffeine_mol)\n",
        "AllChem.MMFFOptimizeMolecule(caffeine_mol)\n",
        "\n",
        "# Conversion de la molécule RDKit en format PDB\n",
        "caffeine_pdb = Chem.MolToPDBBlock(caffeine_mol)\n",
        "\n",
        "# Affichage de la molécule en 3D avec py3Dmol\n",
        "view = py3Dmol.view(width=400, height=300)\n",
        "view.addModel(caffeine_pdb, 'pdb')\n",
        "view.setStyle({'stick': {}})\n",
        "view.setBackgroundColor('0xeeeeee')\n",
        "view.zoomTo()\n",
        "view.show()"
      ]
    },
    {
      "cell_type": "code",
      "execution_count": 5,
      "metadata": {
        "id": "eYv2bRe8ElOX",
        "outputId": "b39a3a4b-2b89-495c-ec98-11eb9b8ffb29",
        "colab": {
          "base_uri": "https://localhost:8080/",
          "height": 417
        }
      },
      "outputs": [
        {
          "output_type": "display_data",
          "data": {
            "application/3dmoljs_load.v0": "<div id=\"3dmolviewer_1742315327976664\"  style=\"position: relative; width: 800px; height: 400px;\">\n        <p id=\"3dmolwarning_1742315327976664\" style=\"background-color:#ffcccc;color:black\">3Dmol.js failed to load for some reason.  Please check your browser console for error messages.<br></p>\n        </div>\n<script>\n\nvar loadScriptAsync = function(uri){\n  return new Promise((resolve, reject) => {\n    //this is to ignore the existence of requirejs amd\n    var savedexports, savedmodule;\n    if (typeof exports !== 'undefined') savedexports = exports;\n    else exports = {}\n    if (typeof module !== 'undefined') savedmodule = module;\n    else module = {}\n\n    var tag = document.createElement('script');\n    tag.src = uri;\n    tag.async = true;\n    tag.onload = () => {\n        exports = savedexports;\n        module = savedmodule;\n        resolve();\n    };\n  var firstScriptTag = document.getElementsByTagName('script')[0];\n  firstScriptTag.parentNode.insertBefore(tag, firstScriptTag);\n});\n};\n\nif(typeof $3Dmolpromise === 'undefined') {\n$3Dmolpromise = null;\n  $3Dmolpromise = loadScriptAsync('https://cdnjs.cloudflare.com/ajax/libs/3Dmol/2.4.2/3Dmol-min.js');\n}\n\nvar viewer_1742315327976664 = null;\nvar warn = document.getElementById(\"3dmolwarning_1742315327976664\");\nif(warn) {\n    warn.parentNode.removeChild(warn);\n}\n$3Dmolpromise.then(function() {\nviewer_1742315327976664 = $3Dmol.createViewer(document.getElementById(\"3dmolviewer_1742315327976664\"),{backgroundColor:\"white\"});\nviewer_1742315327976664.zoomTo();\n\tviewer_1742315327976664.addModel(\"\\n     RDKit          3D\\n\\n 12 12  0  0  0  0  0  0  0  0999 V2000\\n    1.3922   -0.1374    0.0170 C   0  0  0  0  0  0  0  0  0  0  0  0\\n    0.8150    1.1371    0.0108 C   0  0  0  0  0  0  0  0  0  0  0  0\\n   -0.5771    1.2744   -0.0061 C   0  0  0  0  0  0  0  0  0  0  0  0\\n   -1.3922    0.1374   -0.0170 C   0  0  0  0  0  0  0  0  0  0  0  0\\n   -0.8150   -1.1371   -0.0108 C   0  0  0  0  0  0  0  0  0  0  0  0\\n    0.5771   -1.2744    0.0061 C   0  0  0  0  0  0  0  0  0  0  0  0\\n    2.4692   -0.2436    0.0301 H   0  0  0  0  0  0  0  0  0  0  0  0\\n    1.4456    2.0167    0.0192 H   0  0  0  0  0  0  0  0  0  0  0  0\\n   -1.0236    2.2604   -0.0108 H   0  0  0  0  0  0  0  0  0  0  0  0\\n   -2.4692    0.2436   -0.0301 H   0  0  0  0  0  0  0  0  0  0  0  0\\n   -1.4456   -2.0167   -0.0192 H   0  0  0  0  0  0  0  0  0  0  0  0\\n    1.0236   -2.2604    0.0108 H   0  0  0  0  0  0  0  0  0  0  0  0\\n  1  2  2  0\\n  2  3  1  0\\n  3  4  2  0\\n  4  5  1  0\\n  5  6  2  0\\n  6  1  1  0\\n  1  7  1  0\\n  2  8  1  0\\n  3  9  1  0\\n  4 10  1  0\\n  5 11  1  0\\n  6 12  1  0\\nM  END\\n\",\"mol\");\n\tviewer_1742315327976664.setStyle({\"stick\": {}, \"sphere\": {\"scale\": 0.25}});\n\tviewer_1742315327976664.setBackgroundColor(\"white\");\n\tviewer_1742315327976664.zoomTo();\nviewer_1742315327976664.render();\n});\n</script>",
            "text/html": [
              "<div id=\"3dmolviewer_1742315327976664\"  style=\"position: relative; width: 800px; height: 400px;\">\n",
              "        <p id=\"3dmolwarning_1742315327976664\" style=\"background-color:#ffcccc;color:black\">3Dmol.js failed to load for some reason.  Please check your browser console for error messages.<br></p>\n",
              "        </div>\n",
              "<script>\n",
              "\n",
              "var loadScriptAsync = function(uri){\n",
              "  return new Promise((resolve, reject) => {\n",
              "    //this is to ignore the existence of requirejs amd\n",
              "    var savedexports, savedmodule;\n",
              "    if (typeof exports !== 'undefined') savedexports = exports;\n",
              "    else exports = {}\n",
              "    if (typeof module !== 'undefined') savedmodule = module;\n",
              "    else module = {}\n",
              "\n",
              "    var tag = document.createElement('script');\n",
              "    tag.src = uri;\n",
              "    tag.async = true;\n",
              "    tag.onload = () => {\n",
              "        exports = savedexports;\n",
              "        module = savedmodule;\n",
              "        resolve();\n",
              "    };\n",
              "  var firstScriptTag = document.getElementsByTagName('script')[0];\n",
              "  firstScriptTag.parentNode.insertBefore(tag, firstScriptTag);\n",
              "});\n",
              "};\n",
              "\n",
              "if(typeof $3Dmolpromise === 'undefined') {\n",
              "$3Dmolpromise = null;\n",
              "  $3Dmolpromise = loadScriptAsync('https://cdnjs.cloudflare.com/ajax/libs/3Dmol/2.4.2/3Dmol-min.js');\n",
              "}\n",
              "\n",
              "var viewer_1742315327976664 = null;\n",
              "var warn = document.getElementById(\"3dmolwarning_1742315327976664\");\n",
              "if(warn) {\n",
              "    warn.parentNode.removeChild(warn);\n",
              "}\n",
              "$3Dmolpromise.then(function() {\n",
              "viewer_1742315327976664 = $3Dmol.createViewer(document.getElementById(\"3dmolviewer_1742315327976664\"),{backgroundColor:\"white\"});\n",
              "viewer_1742315327976664.zoomTo();\n",
              "\tviewer_1742315327976664.addModel(\"\\n     RDKit          3D\\n\\n 12 12  0  0  0  0  0  0  0  0999 V2000\\n    1.3922   -0.1374    0.0170 C   0  0  0  0  0  0  0  0  0  0  0  0\\n    0.8150    1.1371    0.0108 C   0  0  0  0  0  0  0  0  0  0  0  0\\n   -0.5771    1.2744   -0.0061 C   0  0  0  0  0  0  0  0  0  0  0  0\\n   -1.3922    0.1374   -0.0170 C   0  0  0  0  0  0  0  0  0  0  0  0\\n   -0.8150   -1.1371   -0.0108 C   0  0  0  0  0  0  0  0  0  0  0  0\\n    0.5771   -1.2744    0.0061 C   0  0  0  0  0  0  0  0  0  0  0  0\\n    2.4692   -0.2436    0.0301 H   0  0  0  0  0  0  0  0  0  0  0  0\\n    1.4456    2.0167    0.0192 H   0  0  0  0  0  0  0  0  0  0  0  0\\n   -1.0236    2.2604   -0.0108 H   0  0  0  0  0  0  0  0  0  0  0  0\\n   -2.4692    0.2436   -0.0301 H   0  0  0  0  0  0  0  0  0  0  0  0\\n   -1.4456   -2.0167   -0.0192 H   0  0  0  0  0  0  0  0  0  0  0  0\\n    1.0236   -2.2604    0.0108 H   0  0  0  0  0  0  0  0  0  0  0  0\\n  1  2  2  0\\n  2  3  1  0\\n  3  4  2  0\\n  4  5  1  0\\n  5  6  2  0\\n  6  1  1  0\\n  1  7  1  0\\n  2  8  1  0\\n  3  9  1  0\\n  4 10  1  0\\n  5 11  1  0\\n  6 12  1  0\\nM  END\\n\",\"mol\");\n",
              "\tviewer_1742315327976664.setStyle({\"stick\": {}, \"sphere\": {\"scale\": 0.25}});\n",
              "\tviewer_1742315327976664.setBackgroundColor(\"white\");\n",
              "\tviewer_1742315327976664.zoomTo();\n",
              "viewer_1742315327976664.render();\n",
              "});\n",
              "</script>"
            ]
          },
          "metadata": {}
        }
      ],
      "source": [
        "\n",
        "\n",
        "def draw_benzene_3d():\n",
        "    # Créer la molécule de benzène à partir de la chaîne SMILES\n",
        "    benzene = Chem.MolFromSmiles('c1ccccc1')\n",
        "    # Add explicit hydrogens\n",
        "    benzene_with_hs = Chem.AddHs(benzene)\n",
        "    # Vérifier si la molécule a été créée avec succès\n",
        "    if benzene is None:\n",
        "        print(\"Erreur : La molécule de benzène n'a pas pu être créée.\")\n",
        "        return\n",
        "\n",
        "    # Générer les coordonnées 3D\n",
        "    AllChem.EmbedMolecule(benzene_with_hs)\n",
        "    AllChem.UFFOptimizeMolecule(benzene_with_hs)\n",
        "\n",
        "    # Convertir la molécule en format 3D\n",
        "    block = Chem.MolToMolBlock(benzene_with_hs)\n",
        "\n",
        "    # Utiliser py3Dmol pour visualiser la molécule\n",
        "    viewer = py3Dmol.view(width=800, height=400)\n",
        "    viewer.addModel(block, 'mol')\n",
        "    viewer.setStyle({'stick': {},'sphere': {'scale': 0.25}})\n",
        "    viewer.setBackgroundColor('white')\n",
        "    viewer.zoomTo()\n",
        "    viewer.show()\n",
        "\n",
        "# Appeler la fonction pour dessiner le benzène\n",
        "draw_benzene_3d()"
      ]
    }
  ],
  "metadata": {
    "kernelspec": {
      "display_name": "Python 3",
      "language": "python",
      "name": "python3"
    },
    "language_info": {
      "codemirror_mode": {
        "name": "ipython",
        "version": 3
      },
      "file_extension": ".py",
      "mimetype": "text/x-python",
      "name": "python",
      "nbconvert_exporter": "python",
      "pygments_lexer": "ipython3",
      "version": "3.11.2"
    },
    "colab": {
      "provenance": [],
      "include_colab_link": true
    }
  },
  "nbformat": 4,
  "nbformat_minor": 0
}