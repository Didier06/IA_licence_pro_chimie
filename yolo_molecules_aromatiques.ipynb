{
  "nbformat": 4,
  "nbformat_minor": 0,
  "metadata": {
    "colab": {
      "provenance": [],
      "authorship_tag": "ABX9TyMorr1c2ecHPNZomHhABZXP",
      "include_colab_link": true
    },
    "kernelspec": {
      "name": "python3",
      "display_name": "Python 3"
    },
    "language_info": {
      "name": "python"
    }
  },
  "cells": [
    {
      "cell_type": "markdown",
      "metadata": {
        "id": "view-in-github",
        "colab_type": "text"
      },
      "source": [
        "<a href=\"https://colab.research.google.com/github/Didier06/IA_licence_pro_chimie/blob/main/yolo_molecules_aromatiques.ipynb\" target=\"_parent\"><img src=\"https://colab.research.google.com/assets/colab-badge.svg\" alt=\"Open In Colab\"/></a>"
      ]
    },
    {
      "cell_type": "code",
      "source": [
        "# ============================================================\n",
        "# 🌸 TP IA & Chimie - Reconnaissance de molécules de parfumerie\n",
        "# Université Côte d’Azur — Fablab Valrose\n",
        "# ============================================================\n",
        "\n",
        "# --- 1️⃣ Installation des dépendances ---\n",
        "!pip install rdkit ultralytics tqdm"
      ],
      "metadata": {
        "colab": {
          "base_uri": "https://localhost:8080/"
        },
        "id": "az1h1dAryKJI",
        "outputId": "540f8808-ecaf-4917-f9a6-058643f0b4c5"
      },
      "execution_count": 3,
      "outputs": [
        {
          "output_type": "stream",
          "name": "stdout",
          "text": [
            "\u001b[31mERROR: Could not find a version that satisfies the requirement rdkit-pypi (from versions: none)\u001b[0m\u001b[31m\n",
            "\u001b[0m\u001b[31mERROR: No matching distribution found for rdkit-pypi\u001b[0m\u001b[31m\n",
            "\u001b[0m"
          ]
        }
      ]
    },
    {
      "cell_type": "code",
      "source": [
        "# --- 2️⃣ Importations ---\n",
        "from rdkit import Chem\n",
        "from rdkit.Chem import Draw\n",
        "import os, random, shutil\n",
        "from tqdm import tqdm\n",
        "from ultralytics import YOLO\n",
        "import pandas as pd\n",
        "import matplotlib.pyplot as plt\n",
        "from IPython.display import Image, display"
      ],
      "metadata": {
        "id": "m0Elfl_gyb6S"
      },
      "execution_count": 5,
      "outputs": []
    },
    {
      "cell_type": "code",
      "source": [
        "# --- 3️⃣ Création du dataset ---\n",
        "molecules = {\n",
        "    \"Vanillin\": \"COC1=CC(=CC=C1O)C=O\",\n",
        "    \"Limonene\": \"CC1=CCC(CC1)C(=C)C\",\n",
        "    \"Geraniol\": \"CC(C)=CCCC(C)=CCO\",\n",
        "    \"Eugenol\": \"CC=C(CC1=CC=C(O)C=C1)OC\",\n",
        "    \"Menthol\": \"CC(C)C1CCC(C)CC1O\",\n",
        "    \"Citral\": \"CC(C)=CCC=C(C)C=O\",\n",
        "    \"Coumarin\": \"C1=CC=C2C(=O)OC=CC2=C1\"\n",
        "}\n",
        "\n",
        "os.makedirs(\"dataset/images\", exist_ok=True)\n",
        "os.makedirs(\"dataset/labels\", exist_ok=True)\n",
        "\n",
        "print(\"🧬 Génération des images moléculaires...\")\n",
        "for i, (name, smi) in enumerate(tqdm(molecules.items())):\n",
        "    mol = Chem.MolFromSmiles(smi)\n",
        "    for j in range(10):  # 10 variantes par molécule\n",
        "        Draw.MolToFile(\n",
        "            mol,\n",
        "            f\"dataset/images/{name}_{j}.png\",\n",
        "            size=(512,512),\n",
        "            kekulize=random.choice([True, False]),\n",
        "            wedgeBonds=random.choice([True, False]),\n",
        "            includeAtomNumbers=random.choice([True, False])\n",
        "        )\n",
        "        with open(f\"dataset/labels/{name}_{j}.txt\", \"w\") as f:\n",
        "            f.write(f\"{i} 0.5 0.5 0.9 0.9\\n\")  # boîte centrée 90%\n",
        "print(\"✅ Dataset généré.\")"
      ],
      "metadata": {
        "colab": {
          "base_uri": "https://localhost:8080/"
        },
        "id": "cQTw32_Fyksj",
        "outputId": "bfa912bc-e38d-412d-84a6-66b43f2f537c"
      },
      "execution_count": 6,
      "outputs": [
        {
          "output_type": "stream",
          "name": "stdout",
          "text": [
            "🧬 Génération des images moléculaires...\n"
          ]
        },
        {
          "output_type": "stream",
          "name": "stderr",
          "text": [
            "100%|██████████| 7/7 [00:01<00:00,  6.52it/s]"
          ]
        },
        {
          "output_type": "stream",
          "name": "stdout",
          "text": [
            "✅ Dataset généré.\n"
          ]
        },
        {
          "output_type": "stream",
          "name": "stderr",
          "text": [
            "\n"
          ]
        }
      ]
    },
    {
      "cell_type": "code",
      "source": [
        "# --- 4️⃣ Création des dossiers train / val ---\n",
        "for split in [\"train\", \"val\"]:\n",
        "    os.makedirs(f\"dataset/images/{split}\", exist_ok=True)\n",
        "    os.makedirs(f\"dataset/labels/{split}\", exist_ok=True)\n",
        "\n",
        "images = [f for f in os.listdir(\"dataset/images\") if f.endswith(\".png\")]\n",
        "random.shuffle(images)\n",
        "split_idx = int(0.8 * len(images))\n",
        "train_imgs, val_imgs = images[:split_idx], images[split_idx:]\n",
        "\n",
        "def move_files(img_list, split):\n",
        "    for img_name in img_list:\n",
        "        label_name = img_name.replace(\".png\", \".txt\")\n",
        "        shutil.move(os.path.join(\"dataset/images\", img_name), f\"dataset/images/{split}/{img_name}\")\n",
        "        shutil.move(os.path.join(\"dataset/labels\", label_name), f\"dataset/labels/{split}/{label_name}\")\n",
        "\n",
        "move_files(train_imgs, \"train\")\n",
        "move_files(val_imgs, \"val\")\n",
        "print(f\"📦 {len(train_imgs)} images d'entraînement, {len(val_imgs)} images de validation.\")\n"
      ],
      "metadata": {
        "colab": {
          "base_uri": "https://localhost:8080/"
        },
        "id": "dUovOQUVysng",
        "outputId": "0229615e-8aee-4d97-ac46-8941f13525e9"
      },
      "execution_count": 7,
      "outputs": [
        {
          "output_type": "stream",
          "name": "stdout",
          "text": [
            "📦 56 images d'entraînement, 14 images de validation.\n"
          ]
        }
      ]
    },
    {
      "cell_type": "code",
      "source": [
        "# --- 5️⃣ Fichier data.yaml ---\n",
        "%%writefile data.yaml\n",
        "train: dataset/images/train\n",
        "val: dataset/images/val\n",
        "\n",
        "nc: 7\n",
        "names: [\"Vanillin\", \"Limonene\", \"Geraniol\", \"Eugenol\", \"Menthol\", \"Citral\", \"Coumarin\"]"
      ],
      "metadata": {
        "colab": {
          "base_uri": "https://localhost:8080/"
        },
        "id": "MZJoUiZuyyel",
        "outputId": "e43a2736-7470-4f9b-bf8e-76d7fef0a245"
      },
      "execution_count": 8,
      "outputs": [
        {
          "output_type": "stream",
          "name": "stdout",
          "text": [
            "Writing data.yaml\n"
          ]
        }
      ]
    },
    {
      "cell_type": "code",
      "source": [
        "# --- 6️⃣ Entraînement YOLOv8s (Small) ---\n",
        "model = YOLO(\"yolov8s.pt\")\n",
        "model.train(\n",
        "    data=\"data.yaml\",\n",
        "    epochs=100,\n",
        "    imgsz=512,\n",
        "    batch=8,\n",
        "    name=\"mol_recognition_advanced\",\n",
        "    augment=True,\n",
        "    degrees=15,\n",
        "    scale=0.2,\n",
        "    flipud=0.2,\n",
        "    fliplr=0.5,\n",
        "    shear=5,\n",
        "    hsv_h=0.05,\n",
        "    hsv_s=0.4,\n",
        "    hsv_v=0.4\n",
        ")"
      ],
      "metadata": {
        "colab": {
          "base_uri": "https://localhost:8080/"
        },
        "id": "uoIUk3Esy5s_",
        "outputId": "b321d348-3592-46ca-a4fb-0a5e6fbd337a"
      },
      "execution_count": null,
      "outputs": [
        {
          "output_type": "stream",
          "name": "stdout",
          "text": [
            "\u001b[KDownloading https://github.com/ultralytics/assets/releases/download/v8.3.0/yolov8s.pt to 'yolov8s.pt': 100% ━━━━━━━━━━━━ 21.5MB 168.9MB/s 0.1s\n",
            "Ultralytics 8.3.217 🚀 Python-3.12.12 torch-2.8.0+cu126 CPU (AMD EPYC 7B12)\n",
            "\u001b[34m\u001b[1mengine/trainer: \u001b[0magnostic_nms=False, amp=True, augment=True, auto_augment=randaugment, batch=8, bgr=0.0, box=7.5, cache=False, cfg=None, classes=None, close_mosaic=10, cls=0.5, compile=False, conf=None, copy_paste=0.0, copy_paste_mode=flip, cos_lr=False, cutmix=0.0, data=data.yaml, degrees=15, deterministic=True, device=cpu, dfl=1.5, dnn=False, dropout=0.0, dynamic=False, embed=None, epochs=100, erasing=0.4, exist_ok=False, fliplr=0.5, flipud=0.2, format=torchscript, fraction=1.0, freeze=None, half=False, hsv_h=0.05, hsv_s=0.4, hsv_v=0.4, imgsz=512, int8=False, iou=0.7, keras=False, kobj=1.0, line_width=None, lr0=0.01, lrf=0.01, mask_ratio=4, max_det=300, mixup=0.0, mode=train, model=yolov8s.pt, momentum=0.937, mosaic=1.0, multi_scale=False, name=mol_recognition_advanced, nbs=64, nms=False, opset=None, optimize=False, optimizer=auto, overlap_mask=True, patience=100, perspective=0.0, plots=True, pose=12.0, pretrained=True, profile=False, project=None, rect=False, resume=False, retina_masks=False, save=True, save_conf=False, save_crop=False, save_dir=/content/runs/detect/mol_recognition_advanced, save_frames=False, save_json=False, save_period=-1, save_txt=False, scale=0.2, seed=0, shear=5, show=False, show_boxes=True, show_conf=True, show_labels=True, simplify=True, single_cls=False, source=None, split=val, stream_buffer=False, task=detect, time=None, tracker=botsort.yaml, translate=0.1, val=True, verbose=True, vid_stride=1, visualize=False, warmup_bias_lr=0.1, warmup_epochs=3.0, warmup_momentum=0.8, weight_decay=0.0005, workers=8, workspace=None\n",
            "\u001b[KDownloading https://ultralytics.com/assets/Arial.ttf to '/root/.config/Ultralytics/Arial.ttf': 100% ━━━━━━━━━━━━ 755.1KB 15.1MB/s 0.0s\n",
            "Overriding model.yaml nc=80 with nc=7\n",
            "\n",
            "                   from  n    params  module                                       arguments                     \n",
            "  0                  -1  1       928  ultralytics.nn.modules.conv.Conv             [3, 32, 3, 2]                 \n",
            "  1                  -1  1     18560  ultralytics.nn.modules.conv.Conv             [32, 64, 3, 2]                \n",
            "  2                  -1  1     29056  ultralytics.nn.modules.block.C2f             [64, 64, 1, True]             \n",
            "  3                  -1  1     73984  ultralytics.nn.modules.conv.Conv             [64, 128, 3, 2]               \n",
            "  4                  -1  2    197632  ultralytics.nn.modules.block.C2f             [128, 128, 2, True]           \n",
            "  5                  -1  1    295424  ultralytics.nn.modules.conv.Conv             [128, 256, 3, 2]              \n",
            "  6                  -1  2    788480  ultralytics.nn.modules.block.C2f             [256, 256, 2, True]           \n",
            "  7                  -1  1   1180672  ultralytics.nn.modules.conv.Conv             [256, 512, 3, 2]              \n",
            "  8                  -1  1   1838080  ultralytics.nn.modules.block.C2f             [512, 512, 1, True]           \n",
            "  9                  -1  1    656896  ultralytics.nn.modules.block.SPPF            [512, 512, 5]                 \n",
            " 10                  -1  1         0  torch.nn.modules.upsampling.Upsample         [None, 2, 'nearest']          \n",
            " 11             [-1, 6]  1         0  ultralytics.nn.modules.conv.Concat           [1]                           \n",
            " 12                  -1  1    591360  ultralytics.nn.modules.block.C2f             [768, 256, 1]                 \n",
            " 13                  -1  1         0  torch.nn.modules.upsampling.Upsample         [None, 2, 'nearest']          \n",
            " 14             [-1, 4]  1         0  ultralytics.nn.modules.conv.Concat           [1]                           \n",
            " 15                  -1  1    148224  ultralytics.nn.modules.block.C2f             [384, 128, 1]                 \n",
            " 16                  -1  1    147712  ultralytics.nn.modules.conv.Conv             [128, 128, 3, 2]              \n",
            " 17            [-1, 12]  1         0  ultralytics.nn.modules.conv.Concat           [1]                           \n",
            " 18                  -1  1    493056  ultralytics.nn.modules.block.C2f             [384, 256, 1]                 \n",
            " 19                  -1  1    590336  ultralytics.nn.modules.conv.Conv             [256, 256, 3, 2]              \n",
            " 20             [-1, 9]  1         0  ultralytics.nn.modules.conv.Concat           [1]                           \n",
            " 21                  -1  1   1969152  ultralytics.nn.modules.block.C2f             [768, 512, 1]                 \n",
            " 22        [15, 18, 21]  1   2118757  ultralytics.nn.modules.head.Detect           [7, [128, 256, 512]]          \n",
            "Model summary: 129 layers, 11,138,309 parameters, 11,138,293 gradients, 28.7 GFLOPs\n",
            "\n",
            "Transferred 349/355 items from pretrained weights\n",
            "Freezing layer 'model.22.dfl.conv.weight'\n",
            "\u001b[34m\u001b[1mtrain: \u001b[0mFast image access ✅ (ping: 0.0±0.0 ms, read: 365.5±151.2 MB/s, size: 13.4 KB)\n",
            "\u001b[K\u001b[34m\u001b[1mtrain: \u001b[0mScanning /content/dataset/labels/train... 66 images, 0 backgrounds, 0 corrupt: 100% ━━━━━━━━━━━━ 66/66 1.1Kit/s 0.1s\n",
            "\u001b[34m\u001b[1mtrain: \u001b[0mNew cache created: /content/dataset/labels/train.cache\n",
            "\u001b[34m\u001b[1malbumentations: \u001b[0mBlur(p=0.01, blur_limit=(3, 7)), MedianBlur(p=0.01, blur_limit=(3, 7)), ToGray(p=0.01, method='weighted_average', num_output_channels=3), CLAHE(p=0.01, clip_limit=(1.0, 4.0), tile_grid_size=(8, 8))\n",
            "\u001b[34m\u001b[1mval: \u001b[0mFast image access ✅ (ping: 0.0±0.0 ms, read: 472.8±140.9 MB/s, size: 13.6 KB)\n",
            "\u001b[K\u001b[34m\u001b[1mval: \u001b[0mScanning /content/dataset/labels/val... 24 images, 0 backgrounds, 0 corrupt: 100% ━━━━━━━━━━━━ 24/24 2.0Kit/s 0.0s\n",
            "\u001b[34m\u001b[1mval: \u001b[0mNew cache created: /content/dataset/labels/val.cache\n",
            "Plotting labels to /content/runs/detect/mol_recognition_advanced/labels.jpg... \n",
            "\u001b[34m\u001b[1moptimizer:\u001b[0m 'optimizer=auto' found, ignoring 'lr0=0.01' and 'momentum=0.937' and determining best 'optimizer', 'lr0' and 'momentum' automatically... \n",
            "\u001b[34m\u001b[1moptimizer:\u001b[0m AdamW(lr=0.000909, momentum=0.9) with parameter groups 57 weight(decay=0.0), 64 weight(decay=0.0005), 63 bias(decay=0.0)\n",
            "Image sizes 512 train, 512 val\n",
            "Using 0 dataloader workers\n",
            "Logging results to \u001b[1m/content/runs/detect/mol_recognition_advanced\u001b[0m\n",
            "Starting training for 100 epochs...\n",
            "\n",
            "      Epoch    GPU_mem   box_loss   cls_loss   dfl_loss  Instances       Size\n",
            "\u001b[K      1/100         0G      2.457      5.262      2.656          5        512: 100% ━━━━━━━━━━━━ 9/9 0.1it/s 1:20\n",
            "\u001b[K                 Class     Images  Instances      Box(P          R      mAP50  mAP50-95): 100% ━━━━━━━━━━━━ 2/2 0.2it/s 12.0s\n",
            "                   all         24         24          0          0          0          0\n",
            "\n",
            "      Epoch    GPU_mem   box_loss   cls_loss   dfl_loss  Instances       Size\n",
            "\u001b[K      2/100         0G      1.859      3.678      2.186          7        512: 100% ━━━━━━━━━━━━ 9/9 0.1it/s 1:15\n",
            "\u001b[K                 Class     Images  Instances      Box(P          R      mAP50  mAP50-95): 100% ━━━━━━━━━━━━ 2/2 0.2it/s 12.9s\n",
            "                   all         24         24      0.267      0.357      0.235      0.118\n",
            "\n",
            "      Epoch    GPU_mem   box_loss   cls_loss   dfl_loss  Instances       Size\n",
            "\u001b[K      3/100         0G      1.452      3.208       1.91          8        512: 100% ━━━━━━━━━━━━ 9/9 0.1it/s 1:15\n",
            "\u001b[K                 Class     Images  Instances      Box(P          R      mAP50  mAP50-95): 100% ━━━━━━━━━━━━ 2/2 0.2it/s 11.2s\n",
            "                   all         24         24      0.881      0.286      0.521      0.374\n",
            "\n",
            "      Epoch    GPU_mem   box_loss   cls_loss   dfl_loss  Instances       Size\n",
            "\u001b[K      4/100         0G       1.31       2.73      1.802          7        512: 100% ━━━━━━━━━━━━ 9/9 0.1it/s 1:16\n",
            "\u001b[K                 Class     Images  Instances      Box(P          R      mAP50  mAP50-95): 100% ━━━━━━━━━━━━ 2/2 0.2it/s 9.8s\n",
            "                   all         24         24      0.193        0.5      0.308      0.216\n",
            "\n",
            "      Epoch    GPU_mem   box_loss   cls_loss   dfl_loss  Instances       Size\n",
            "\u001b[K      5/100         0G       1.29       2.56      1.756          8        512: 100% ━━━━━━━━━━━━ 9/9 0.1it/s 1:10\n",
            "\u001b[K                 Class     Images  Instances      Box(P          R      mAP50  mAP50-95): 100% ━━━━━━━━━━━━ 2/2 0.2it/s 9.8s\n",
            "                   all         24         24      0.669      0.714      0.717      0.443\n",
            "\n",
            "      Epoch    GPU_mem   box_loss   cls_loss   dfl_loss  Instances       Size\n",
            "\u001b[K      6/100         0G      1.344      2.489      1.814          6        512: 100% ━━━━━━━━━━━━ 9/9 0.1it/s 1:11\n",
            "\u001b[K                 Class     Images  Instances      Box(P          R      mAP50  mAP50-95): 100% ━━━━━━━━━━━━ 2/2 0.2it/s 10.0s\n",
            "                   all         24         24      0.654      0.357        0.5      0.379\n",
            "\n",
            "      Epoch    GPU_mem   box_loss   cls_loss   dfl_loss  Instances       Size\n",
            "\u001b[K      7/100         0G      1.183      2.316      1.682          7        512: 100% ━━━━━━━━━━━━ 9/9 0.1it/s 1:11\n",
            "\u001b[K                 Class     Images  Instances      Box(P          R      mAP50  mAP50-95): 100% ━━━━━━━━━━━━ 2/2 0.2it/s 9.0s\n",
            "                   all         24         24      0.168      0.571      0.415      0.247\n",
            "\n",
            "      Epoch    GPU_mem   box_loss   cls_loss   dfl_loss  Instances       Size\n",
            "\u001b[K      8/100         0G      1.314      2.312      1.769          5        512: 100% ━━━━━━━━━━━━ 9/9 0.1it/s 1:12\n",
            "\u001b[K                 Class     Images  Instances      Box(P          R      mAP50  mAP50-95): 100% ━━━━━━━━━━━━ 2/2 0.2it/s 8.4s\n",
            "                   all         24         24      0.416      0.357      0.511      0.283\n",
            "\n",
            "      Epoch    GPU_mem   box_loss   cls_loss   dfl_loss  Instances       Size\n",
            "\u001b[K      9/100         0G      1.364      2.309      1.793          4        512: 100% ━━━━━━━━━━━━ 9/9 0.1it/s 1:09\n",
            "\u001b[K                 Class     Images  Instances      Box(P          R      mAP50  mAP50-95): 100% ━━━━━━━━━━━━ 2/2 0.2it/s 8.5s\n",
            "                   all         24         24      0.331      0.418      0.418       0.27\n",
            "\n",
            "      Epoch    GPU_mem   box_loss   cls_loss   dfl_loss  Instances       Size\n",
            "\u001b[K     10/100         0G      1.325      2.153      1.752          6        512: 100% ━━━━━━━━━━━━ 9/9 0.1it/s 1:11\n",
            "\u001b[K                 Class     Images  Instances      Box(P          R      mAP50  mAP50-95): 100% ━━━━━━━━━━━━ 2/2 0.2it/s 8.5s\n",
            "                   all         24         24      0.185      0.476      0.175      0.102\n",
            "\n",
            "      Epoch    GPU_mem   box_loss   cls_loss   dfl_loss  Instances       Size\n",
            "\u001b[K     11/100         0G      1.385      2.244      1.837          6        512: 100% ━━━━━━━━━━━━ 9/9 0.1it/s 1:12\n",
            "\u001b[K                 Class     Images  Instances      Box(P          R      mAP50  mAP50-95): 100% ━━━━━━━━━━━━ 2/2 0.2it/s 8.6s\n",
            "                   all         24         24     0.0552      0.357     0.0925     0.0391\n",
            "\n",
            "      Epoch    GPU_mem   box_loss   cls_loss   dfl_loss  Instances       Size\n",
            "\u001b[K     12/100         0G      1.281      2.177      1.771          5        512: 100% ━━━━━━━━━━━━ 9/9 0.1it/s 1:08\n",
            "\u001b[K                 Class     Images  Instances      Box(P          R      mAP50  mAP50-95): 100% ━━━━━━━━━━━━ 2/2 0.2it/s 8.4s\n",
            "                   all         24         24      0.986     0.0714      0.438      0.287\n",
            "\n",
            "      Epoch    GPU_mem   box_loss   cls_loss   dfl_loss  Instances       Size\n",
            "\u001b[K     13/100         0G      1.269      2.052      1.764          6        512: 100% ━━━━━━━━━━━━ 9/9 0.1it/s 1:09\n",
            "\u001b[K                 Class     Images  Instances      Box(P          R      mAP50  mAP50-95): 100% ━━━━━━━━━━━━ 2/2 0.2it/s 8.9s\n",
            "                   all         24         24      0.734        0.5      0.579      0.377\n",
            "\n",
            "      Epoch    GPU_mem   box_loss   cls_loss   dfl_loss  Instances       Size\n",
            "\u001b[K     14/100         0G      1.391       2.08      1.811          6        512: 100% ━━━━━━━━━━━━ 9/9 0.1it/s 1:10\n",
            "\u001b[K                 Class     Images  Instances      Box(P          R      mAP50  mAP50-95): 100% ━━━━━━━━━━━━ 2/2 0.2it/s 8.7s\n",
            "                   all         24         24       0.82      0.357      0.655      0.464\n",
            "\n",
            "      Epoch    GPU_mem   box_loss   cls_loss   dfl_loss  Instances       Size\n",
            "\u001b[K     15/100         0G      1.344      2.012      1.747          8        512: 100% ━━━━━━━━━━━━ 9/9 0.1it/s 1:10\n",
            "\u001b[K                 Class     Images  Instances      Box(P          R      mAP50  mAP50-95): 100% ━━━━━━━━━━━━ 2/2 0.2it/s 8.8s\n",
            "                   all         24         24      0.719      0.307      0.723      0.419\n",
            "\n",
            "      Epoch    GPU_mem   box_loss   cls_loss   dfl_loss  Instances       Size\n",
            "\u001b[K     16/100         0G      1.259      1.947      1.759          4        512: 100% ━━━━━━━━━━━━ 9/9 0.1it/s 1:09\n",
            "\u001b[K                 Class     Images  Instances      Box(P          R      mAP50  mAP50-95): 100% ━━━━━━━━━━━━ 2/2 0.2it/s 8.5s\n",
            "                   all         24         24      0.781      0.485       0.57      0.355\n",
            "\n",
            "      Epoch    GPU_mem   box_loss   cls_loss   dfl_loss  Instances       Size\n",
            "\u001b[K     17/100         0G      1.241      1.959      1.682          8        512: 100% ━━━━━━━━━━━━ 9/9 0.1it/s 1:10\n",
            "\u001b[K                 Class     Images  Instances      Box(P          R      mAP50  mAP50-95): 100% ━━━━━━━━━━━━ 2/2 0.2it/s 8.6s\n",
            "                   all         24         24      0.166      0.857      0.373      0.104\n",
            "\n",
            "      Epoch    GPU_mem   box_loss   cls_loss   dfl_loss  Instances       Size\n",
            "\u001b[K     18/100         0G      1.229      1.819      1.704          6        512: 100% ━━━━━━━━━━━━ 9/9 0.1it/s 1:07\n",
            "\u001b[K                 Class     Images  Instances      Box(P          R      mAP50  mAP50-95): 100% ━━━━━━━━━━━━ 2/2 0.2it/s 8.4s\n",
            "                   all         24         24      0.246      0.714      0.446      0.214\n",
            "\n",
            "      Epoch    GPU_mem   box_loss   cls_loss   dfl_loss  Instances       Size\n",
            "\u001b[K     19/100         0G      1.188      1.756      1.688          7        512: 100% ━━━━━━━━━━━━ 9/9 0.1it/s 1:08\n",
            "\u001b[K                 Class     Images  Instances      Box(P          R      mAP50  mAP50-95): 100% ━━━━━━━━━━━━ 2/2 0.2it/s 8.4s\n",
            "                   all         24         24      0.514      0.286       0.24      0.139\n",
            "\n",
            "      Epoch    GPU_mem   box_loss   cls_loss   dfl_loss  Instances       Size\n",
            "\u001b[K     20/100         0G      1.249      1.825      1.699          8        512: 100% ━━━━━━━━━━━━ 9/9 0.1it/s 1:08\n",
            "\u001b[K                 Class     Images  Instances      Box(P          R      mAP50  mAP50-95): 100% ━━━━━━━━━━━━ 2/2 0.2it/s 8.2s\n",
            "                   all         24         24      0.517      0.643      0.596      0.469\n",
            "\n",
            "      Epoch    GPU_mem   box_loss   cls_loss   dfl_loss  Instances       Size\n",
            "\u001b[K     21/100         0G      1.199      1.878      1.627          6        512: 100% ━━━━━━━━━━━━ 9/9 0.1it/s 1:08\n",
            "\u001b[K                 Class     Images  Instances      Box(P          R      mAP50  mAP50-95): 100% ━━━━━━━━━━━━ 2/2 0.2it/s 8.6s\n",
            "                   all         24         24      0.912      0.429      0.521      0.391\n",
            "\n",
            "      Epoch    GPU_mem   box_loss   cls_loss   dfl_loss  Instances       Size\n",
            "\u001b[K     22/100         0G      1.203      1.726      1.654          6        512: 100% ━━━━━━━━━━━━ 9/9 0.1it/s 1:07\n",
            "\u001b[K                 Class     Images  Instances      Box(P          R      mAP50  mAP50-95): 100% ━━━━━━━━━━━━ 2/2 0.2it/s 8.5s\n",
            "                   all         24         24       0.64      0.664      0.995      0.749\n",
            "\n",
            "      Epoch    GPU_mem   box_loss   cls_loss   dfl_loss  Instances       Size\n",
            "\u001b[K     23/100         0G      1.229      1.861      1.672          7        512: 100% ━━━━━━━━━━━━ 9/9 0.1it/s 1:10\n",
            "\u001b[K                 Class     Images  Instances      Box(P          R      mAP50  mAP50-95): 100% ━━━━━━━━━━━━ 2/2 0.2it/s 8.5s\n",
            "                   all         24         24      0.912      0.571      0.971      0.684\n",
            "\n",
            "      Epoch    GPU_mem   box_loss   cls_loss   dfl_loss  Instances       Size\n",
            "\u001b[K     24/100         0G      1.279      2.033      1.729          5        512: 100% ━━━━━━━━━━━━ 9/9 0.1it/s 1:09\n",
            "\u001b[K                 Class     Images  Instances      Box(P          R      mAP50  mAP50-95): 100% ━━━━━━━━━━━━ 2/2 0.2it/s 8.9s\n",
            "                   all         24         24      0.847      0.714      0.803      0.544\n",
            "\n",
            "      Epoch    GPU_mem   box_loss   cls_loss   dfl_loss  Instances       Size\n",
            "\u001b[K     25/100         0G      1.235      1.849      1.693          5        512: 100% ━━━━━━━━━━━━ 9/9 0.1it/s 1:09\n",
            "\u001b[K                 Class     Images  Instances      Box(P          R      mAP50  mAP50-95): 100% ━━━━━━━━━━━━ 2/2 0.2it/s 8.8s\n",
            "                   all         24         24      0.726      0.857      0.888        0.5\n",
            "\n",
            "      Epoch    GPU_mem   box_loss   cls_loss   dfl_loss  Instances       Size\n",
            "\u001b[K     26/100         0G      1.168      1.848      1.646          5        512: 100% ━━━━━━━━━━━━ 9/9 0.1it/s 1:09\n",
            "\u001b[K                 Class     Images  Instances      Box(P          R      mAP50  mAP50-95): 100% ━━━━━━━━━━━━ 2/2 0.2it/s 8.7s\n",
            "                   all         24         24      0.942      0.714      0.888      0.469\n",
            "\n",
            "      Epoch    GPU_mem   box_loss   cls_loss   dfl_loss  Instances       Size\n",
            "\u001b[K     27/100         0G      1.066      1.696      1.584          6        512: 100% ━━━━━━━━━━━━ 9/9 0.1it/s 1:09\n",
            "\u001b[K                 Class     Images  Instances      Box(P          R      mAP50  mAP50-95): 100% ━━━━━━━━━━━━ 2/2 0.2it/s 8.2s\n",
            "                   all         24         24      0.671      0.955      0.995      0.791\n",
            "\n",
            "      Epoch    GPU_mem   box_loss   cls_loss   dfl_loss  Instances       Size\n",
            "\u001b[K     28/100         0G      1.167      1.761      1.645          6        512: 100% ━━━━━━━━━━━━ 9/9 0.1it/s 1:10\n",
            "\u001b[K                 Class     Images  Instances      Box(P          R      mAP50  mAP50-95): 100% ━━━━━━━━━━━━ 2/2 0.2it/s 9.3s\n",
            "                   all         24         24      0.618          1      0.959       0.76\n",
            "\n",
            "      Epoch    GPU_mem   box_loss   cls_loss   dfl_loss  Instances       Size\n",
            "\u001b[K     29/100         0G      1.221      1.747      1.678          8        512: 100% ━━━━━━━━━━━━ 9/9 0.1it/s 1:08\n",
            "\u001b[K                 Class     Images  Instances      Box(P          R      mAP50  mAP50-95): 100% ━━━━━━━━━━━━ 2/2 0.2it/s 8.6s\n",
            "                   all         24         24      0.831      0.857      0.995      0.734\n",
            "\n",
            "      Epoch    GPU_mem   box_loss   cls_loss   dfl_loss  Instances       Size\n",
            "\u001b[K     30/100         0G      1.213      1.738      1.714          7        512: 100% ━━━━━━━━━━━━ 9/9 0.1it/s 1:11\n",
            "\u001b[K                 Class     Images  Instances      Box(P          R      mAP50  mAP50-95): 100% ━━━━━━━━━━━━ 2/2 0.2it/s 8.5s\n",
            "                   all         24         24      0.547          1      0.924       0.77\n",
            "\n",
            "      Epoch    GPU_mem   box_loss   cls_loss   dfl_loss  Instances       Size\n",
            "\u001b[K     31/100         0G      1.178      1.723      1.608          8        512: 100% ━━━━━━━━━━━━ 9/9 0.1it/s 1:10\n",
            "\u001b[K                 Class     Images  Instances      Box(P          R      mAP50  mAP50-95): 100% ━━━━━━━━━━━━ 2/2 0.2it/s 8.5s\n",
            "                   all         24         24      0.631          1      0.995      0.839\n",
            "\n",
            "      Epoch    GPU_mem   box_loss   cls_loss   dfl_loss  Instances       Size\n",
            "\u001b[K     32/100         0G      1.108      1.626      1.606          4        512: 100% ━━━━━━━━━━━━ 9/9 0.1it/s 1:07\n",
            "\u001b[K                 Class     Images  Instances      Box(P          R      mAP50  mAP50-95): 100% ━━━━━━━━━━━━ 2/2 0.2it/s 8.5s\n",
            "                   all         24         24      0.904      0.847      0.995      0.817\n",
            "\n",
            "      Epoch    GPU_mem   box_loss   cls_loss   dfl_loss  Instances       Size\n",
            "\u001b[K     33/100         0G      1.072      1.613       1.58          5        512: 100% ━━━━━━━━━━━━ 9/9 0.1it/s 1:08\n",
            "\u001b[K                 Class     Images  Instances      Box(P          R      mAP50  mAP50-95): 100% ━━━━━━━━━━━━ 2/2 0.2it/s 8.8s\n",
            "                   all         24         24      0.737      0.857      0.995      0.869\n",
            "\n",
            "      Epoch    GPU_mem   box_loss   cls_loss   dfl_loss  Instances       Size\n",
            "\u001b[K     34/100         0G      1.153      1.689      1.608          6        512: 100% ━━━━━━━━━━━━ 9/9 0.1it/s 1:08\n",
            "\u001b[K                 Class     Images  Instances      Box(P          R      mAP50  mAP50-95): 100% ━━━━━━━━━━━━ 2/2 0.2it/s 8.7s\n",
            "                   all         24         24      0.713          1      0.995      0.858\n",
            "\n",
            "      Epoch    GPU_mem   box_loss   cls_loss   dfl_loss  Instances       Size\n",
            "\u001b[K     35/100         0G      1.129      1.557      1.605          6        512: 100% ━━━━━━━━━━━━ 9/9 0.1it/s 1:08\n",
            "\u001b[K                 Class     Images  Instances      Box(P          R      mAP50  mAP50-95): 100% ━━━━━━━━━━━━ 2/2 0.2it/s 8.8s\n",
            "                   all         24         24      0.737      0.857      0.995      0.888\n",
            "\n",
            "      Epoch    GPU_mem   box_loss   cls_loss   dfl_loss  Instances       Size\n",
            "\u001b[K     36/100         0G      1.137      1.611       1.59          6        512: 100% ━━━━━━━━━━━━ 9/9 0.1it/s 1:07\n",
            "\u001b[K                 Class     Images  Instances      Box(P          R      mAP50  mAP50-95): 100% ━━━━━━━━━━━━ 2/2 0.2it/s 8.3s\n",
            "                   all         24         24      0.868      0.857      0.995      0.839\n",
            "\n",
            "      Epoch    GPU_mem   box_loss   cls_loss   dfl_loss  Instances       Size\n",
            "\u001b[K     37/100         0G      1.147      1.493      1.612          7        512: 100% ━━━━━━━━━━━━ 9/9 0.1it/s 1:07\n",
            "\u001b[K                 Class     Images  Instances      Box(P          R      mAP50  mAP50-95): 100% ━━━━━━━━━━━━ 2/2 0.2it/s 8.8s\n",
            "                   all         24         24      0.742          1      0.995      0.839\n",
            "\n",
            "      Epoch    GPU_mem   box_loss   cls_loss   dfl_loss  Instances       Size\n",
            "\u001b[K     38/100         0G      1.145      1.537      1.589          7        512: 100% ━━━━━━━━━━━━ 9/9 0.1it/s 1:11\n",
            "\u001b[K                 Class     Images  Instances      Box(P          R      mAP50  mAP50-95): 100% ━━━━━━━━━━━━ 2/2 0.2it/s 8.9s\n",
            "                   all         24         24      0.701          1      0.995      0.819\n",
            "\n",
            "      Epoch    GPU_mem   box_loss   cls_loss   dfl_loss  Instances       Size\n",
            "\u001b[K     39/100         0G       1.13      1.519      1.594          6        512: 100% ━━━━━━━━━━━━ 9/9 0.1it/s 1:14\n",
            "\u001b[K                 Class     Images  Instances      Box(P          R      mAP50  mAP50-95): 100% ━━━━━━━━━━━━ 2/2 0.2it/s 8.7s\n",
            "                   all         24         24      0.793          1      0.995      0.782\n",
            "\n",
            "      Epoch    GPU_mem   box_loss   cls_loss   dfl_loss  Instances       Size\n",
            "\u001b[K     40/100         0G      1.119      1.697        1.6          8        512: 100% ━━━━━━━━━━━━ 9/9 0.1it/s 1:10\n",
            "\u001b[K                 Class     Images  Instances      Box(P          R      mAP50  mAP50-95): 100% ━━━━━━━━━━━━ 2/2 0.2it/s 8.4s\n",
            "                   all         24         24      0.896          1      0.995      0.732\n",
            "\n",
            "      Epoch    GPU_mem   box_loss   cls_loss   dfl_loss  Instances       Size\n",
            "\u001b[K     41/100         0G      1.146      1.513      1.597          7        512: 100% ━━━━━━━━━━━━ 9/9 0.1it/s 1:07\n",
            "\u001b[K                 Class     Images  Instances      Box(P          R      mAP50  mAP50-95): 100% ━━━━━━━━━━━━ 2/2 0.2it/s 8.6s\n",
            "                   all         24         24      0.891          1      0.995      0.824\n",
            "\n",
            "      Epoch    GPU_mem   box_loss   cls_loss   dfl_loss  Instances       Size\n",
            "\u001b[K     42/100         0G      1.164      1.522       1.63          6        512: 100% ━━━━━━━━━━━━ 9/9 0.1it/s 1:09\n",
            "\u001b[K                 Class     Images  Instances      Box(P          R      mAP50  mAP50-95): 100% ━━━━━━━━━━━━ 2/2 0.2it/s 8.6s\n",
            "                   all         24         24      0.805      0.857      0.995      0.755\n",
            "\n",
            "      Epoch    GPU_mem   box_loss   cls_loss   dfl_loss  Instances       Size\n",
            "\u001b[K     43/100         0G      1.109      1.453      1.579          6        512: 100% ━━━━━━━━━━━━ 9/9 0.1it/s 1:10\n",
            "\u001b[K                 Class     Images  Instances      Box(P          R      mAP50  mAP50-95): 100% ━━━━━━━━━━━━ 2/2 0.2it/s 8.7s\n",
            "                   all         24         24      0.708      0.701      0.801      0.456\n",
            "\n",
            "      Epoch    GPU_mem   box_loss   cls_loss   dfl_loss  Instances       Size\n",
            "\u001b[K     44/100         0G      1.068      1.473      1.549          8        512: 100% ━━━━━━━━━━━━ 9/9 0.1it/s 1:09\n",
            "\u001b[K                 Class     Images  Instances      Box(P          R      mAP50  mAP50-95): 100% ━━━━━━━━━━━━ 2/2 0.2it/s 8.2s\n",
            "                   all         24         24      0.896      0.857      0.924      0.762\n",
            "\n",
            "      Epoch    GPU_mem   box_loss   cls_loss   dfl_loss  Instances       Size\n",
            "\u001b[K     45/100         0G      1.069      1.383      1.561          7        512: 100% ━━━━━━━━━━━━ 9/9 0.1it/s 1:09\n",
            "\u001b[K                 Class     Images  Instances      Box(P          R      mAP50  mAP50-95): 100% ━━━━━━━━━━━━ 2/2 0.2it/s 8.5s\n",
            "                   all         24         24      0.905          1      0.995      0.839\n",
            "\n",
            "      Epoch    GPU_mem   box_loss   cls_loss   dfl_loss  Instances       Size\n",
            "\u001b[K     46/100         0G      1.099      1.442      1.563          6        512: 100% ━━━━━━━━━━━━ 9/9 0.1it/s 1:09\n",
            "\u001b[K                 Class     Images  Instances      Box(P          R      mAP50  mAP50-95): 100% ━━━━━━━━━━━━ 2/2 0.2it/s 8.8s\n",
            "                   all         24         24      0.941          1      0.995      0.853\n",
            "\n",
            "      Epoch    GPU_mem   box_loss   cls_loss   dfl_loss  Instances       Size\n",
            "\u001b[K     47/100         0G       1.08      1.466      1.567          6        512: 100% ━━━━━━━━━━━━ 9/9 0.1it/s 1:11\n",
            "\u001b[K                 Class     Images  Instances      Box(P          R      mAP50  mAP50-95): 100% ━━━━━━━━━━━━ 2/2 0.2it/s 8.7s\n",
            "                   all         24         24      0.961          1      0.995      0.832\n",
            "\n",
            "      Epoch    GPU_mem   box_loss   cls_loss   dfl_loss  Instances       Size\n",
            "\u001b[K     48/100         0G      1.098      1.427       1.59          8        512: 100% ━━━━━━━━━━━━ 9/9 0.1it/s 1:09\n",
            "\u001b[K                 Class     Images  Instances      Box(P          R      mAP50  mAP50-95): 100% ━━━━━━━━━━━━ 2/2 0.2it/s 8.6s\n",
            "                   all         24         24      0.966          1      0.995      0.832\n",
            "\n",
            "      Epoch    GPU_mem   box_loss   cls_loss   dfl_loss  Instances       Size\n",
            "\u001b[K     49/100         0G      1.064      1.425      1.543          5        512: 100% ━━━━━━━━━━━━ 9/9 0.1it/s 1:08\n",
            "\u001b[K                 Class     Images  Instances      Box(P          R      mAP50  mAP50-95): 100% ━━━━━━━━━━━━ 2/2 0.2it/s 9.0s\n",
            "                   all         24         24      0.942          1      0.995      0.839\n",
            "\n",
            "      Epoch    GPU_mem   box_loss   cls_loss   dfl_loss  Instances       Size\n",
            "\u001b[K     50/100         0G      1.118      1.431      1.567          7        512: 100% ━━━━━━━━━━━━ 9/9 0.1it/s 1:12\n",
            "\u001b[K                 Class     Images  Instances      Box(P          R      mAP50  mAP50-95): 100% ━━━━━━━━━━━━ 2/2 0.2it/s 8.5s\n",
            "                   all         24         24      0.946          1      0.995      0.824\n",
            "\n",
            "      Epoch    GPU_mem   box_loss   cls_loss   dfl_loss  Instances       Size\n",
            "\u001b[K     51/100         0G      1.012      1.443      1.484         25        512: 33% ━━━━──────── 3/9 0.1it/s 34.6s<1:18"
          ]
        }
      ]
    },
    {
      "cell_type": "code",
      "source": [
        "# --- 7️⃣ Évaluation du modèle ---\n",
        "metrics = model.val()\n",
        "print(\"📊 Résultats finaux :\")\n",
        "print(metrics)\n",
        "\n",
        "# --- 8️⃣ Visualisation des courbes d'entraînement ---\n",
        "display(Image(filename=\"runs/detect/mol_recognition_advanced/results.png\"))\n",
        "display(Image(filename=\"runs/detect/mol_recognition_advanced/confusion_matrix.png\"))"
      ],
      "metadata": {
        "id": "UNr264LIzGAv"
      },
      "execution_count": null,
      "outputs": []
    },
    {
      "cell_type": "code",
      "source": [
        "# --- 9️⃣ Analyse des performances ---\n",
        "df = pd.read_csv(\"runs/detect/mol_recognition_advanced/results.csv\")\n",
        "plt.figure(figsize=(7,4))\n",
        "plt.plot(df[\"epoch\"], df[\"metrics/mAP50\"], label=\"mAP@50\")\n",
        "plt.plot(df[\"epoch\"], df[\"metrics/precision\"], label=\"Précision\")\n",
        "plt.plot(df[\"epoch\"], df[\"metrics/recall\"], label=\"Rappel\")\n",
        "plt.xlabel(\"Epoch\")\n",
        "plt.ylabel(\"Score\")\n",
        "plt.legend()\n",
        "plt.title(\"Évolution des performances du modèle\")\n",
        "plt.show()"
      ],
      "metadata": {
        "id": "9ndPCHkTzjdc"
      },
      "execution_count": null,
      "outputs": []
    },
    {
      "cell_type": "code",
      "execution_count": 4,
      "metadata": {
        "colab": {
          "base_uri": "https://localhost:8080/"
        },
        "id": "uOcpHyzYxySs",
        "outputId": "83165129-8698-4f11-d1ba-ce71b83d89af"
      },
      "outputs": [
        {
          "output_type": "stream",
          "name": "stdout",
          "text": [
            "Collecting rdkit\n",
            "  Downloading rdkit-2025.9.1-cp312-cp312-manylinux_2_28_x86_64.whl.metadata (4.1 kB)\n",
            "Collecting ultralytics\n",
            "  Downloading ultralytics-8.3.217-py3-none-any.whl.metadata (37 kB)\n",
            "Requirement already satisfied: tqdm in /usr/local/lib/python3.12/dist-packages (4.67.1)\n",
            "Requirement already satisfied: numpy in /usr/local/lib/python3.12/dist-packages (from rdkit) (2.0.2)\n",
            "Requirement already satisfied: Pillow in /usr/local/lib/python3.12/dist-packages (from rdkit) (11.3.0)\n",
            "Requirement already satisfied: matplotlib>=3.3.0 in /usr/local/lib/python3.12/dist-packages (from ultralytics) (3.10.0)\n",
            "Requirement already satisfied: opencv-python>=4.6.0 in /usr/local/lib/python3.12/dist-packages (from ultralytics) (4.12.0.88)\n",
            "Requirement already satisfied: pyyaml>=5.3.1 in /usr/local/lib/python3.12/dist-packages (from ultralytics) (6.0.3)\n",
            "Requirement already satisfied: requests>=2.23.0 in /usr/local/lib/python3.12/dist-packages (from ultralytics) (2.32.4)\n",
            "Requirement already satisfied: scipy>=1.4.1 in /usr/local/lib/python3.12/dist-packages (from ultralytics) (1.16.2)\n",
            "Requirement already satisfied: torch>=1.8.0 in /usr/local/lib/python3.12/dist-packages (from ultralytics) (2.8.0+cu126)\n",
            "Requirement already satisfied: torchvision>=0.9.0 in /usr/local/lib/python3.12/dist-packages (from ultralytics) (0.23.0+cu126)\n",
            "Requirement already satisfied: psutil in /usr/local/lib/python3.12/dist-packages (from ultralytics) (5.9.5)\n",
            "Requirement already satisfied: polars in /usr/local/lib/python3.12/dist-packages (from ultralytics) (1.25.2)\n",
            "Collecting ultralytics-thop>=2.0.0 (from ultralytics)\n",
            "  Downloading ultralytics_thop-2.0.17-py3-none-any.whl.metadata (14 kB)\n",
            "Requirement already satisfied: contourpy>=1.0.1 in /usr/local/lib/python3.12/dist-packages (from matplotlib>=3.3.0->ultralytics) (1.3.3)\n",
            "Requirement already satisfied: cycler>=0.10 in /usr/local/lib/python3.12/dist-packages (from matplotlib>=3.3.0->ultralytics) (0.12.1)\n",
            "Requirement already satisfied: fonttools>=4.22.0 in /usr/local/lib/python3.12/dist-packages (from matplotlib>=3.3.0->ultralytics) (4.60.1)\n",
            "Requirement already satisfied: kiwisolver>=1.3.1 in /usr/local/lib/python3.12/dist-packages (from matplotlib>=3.3.0->ultralytics) (1.4.9)\n",
            "Requirement already satisfied: packaging>=20.0 in /usr/local/lib/python3.12/dist-packages (from matplotlib>=3.3.0->ultralytics) (25.0)\n",
            "Requirement already satisfied: pyparsing>=2.3.1 in /usr/local/lib/python3.12/dist-packages (from matplotlib>=3.3.0->ultralytics) (3.2.5)\n",
            "Requirement already satisfied: python-dateutil>=2.7 in /usr/local/lib/python3.12/dist-packages (from matplotlib>=3.3.0->ultralytics) (2.9.0.post0)\n",
            "Requirement already satisfied: charset_normalizer<4,>=2 in /usr/local/lib/python3.12/dist-packages (from requests>=2.23.0->ultralytics) (3.4.4)\n",
            "Requirement already satisfied: idna<4,>=2.5 in /usr/local/lib/python3.12/dist-packages (from requests>=2.23.0->ultralytics) (3.11)\n",
            "Requirement already satisfied: urllib3<3,>=1.21.1 in /usr/local/lib/python3.12/dist-packages (from requests>=2.23.0->ultralytics) (2.5.0)\n",
            "Requirement already satisfied: certifi>=2017.4.17 in /usr/local/lib/python3.12/dist-packages (from requests>=2.23.0->ultralytics) (2025.10.5)\n",
            "Requirement already satisfied: filelock in /usr/local/lib/python3.12/dist-packages (from torch>=1.8.0->ultralytics) (3.20.0)\n",
            "Requirement already satisfied: typing-extensions>=4.10.0 in /usr/local/lib/python3.12/dist-packages (from torch>=1.8.0->ultralytics) (4.15.0)\n",
            "Requirement already satisfied: setuptools in /usr/local/lib/python3.12/dist-packages (from torch>=1.8.0->ultralytics) (75.2.0)\n",
            "Requirement already satisfied: sympy>=1.13.3 in /usr/local/lib/python3.12/dist-packages (from torch>=1.8.0->ultralytics) (1.13.3)\n",
            "Requirement already satisfied: networkx in /usr/local/lib/python3.12/dist-packages (from torch>=1.8.0->ultralytics) (3.5)\n",
            "Requirement already satisfied: jinja2 in /usr/local/lib/python3.12/dist-packages (from torch>=1.8.0->ultralytics) (3.1.6)\n",
            "Requirement already satisfied: fsspec in /usr/local/lib/python3.12/dist-packages (from torch>=1.8.0->ultralytics) (2025.3.0)\n",
            "Requirement already satisfied: nvidia-cuda-nvrtc-cu12==12.6.77 in /usr/local/lib/python3.12/dist-packages (from torch>=1.8.0->ultralytics) (12.6.77)\n",
            "Requirement already satisfied: nvidia-cuda-runtime-cu12==12.6.77 in /usr/local/lib/python3.12/dist-packages (from torch>=1.8.0->ultralytics) (12.6.77)\n",
            "Requirement already satisfied: nvidia-cuda-cupti-cu12==12.6.80 in /usr/local/lib/python3.12/dist-packages (from torch>=1.8.0->ultralytics) (12.6.80)\n",
            "Requirement already satisfied: nvidia-cudnn-cu12==9.10.2.21 in /usr/local/lib/python3.12/dist-packages (from torch>=1.8.0->ultralytics) (9.10.2.21)\n",
            "Requirement already satisfied: nvidia-cublas-cu12==12.6.4.1 in /usr/local/lib/python3.12/dist-packages (from torch>=1.8.0->ultralytics) (12.6.4.1)\n",
            "Requirement already satisfied: nvidia-cufft-cu12==11.3.0.4 in /usr/local/lib/python3.12/dist-packages (from torch>=1.8.0->ultralytics) (11.3.0.4)\n",
            "Requirement already satisfied: nvidia-curand-cu12==10.3.7.77 in /usr/local/lib/python3.12/dist-packages (from torch>=1.8.0->ultralytics) (10.3.7.77)\n",
            "Requirement already satisfied: nvidia-cusolver-cu12==11.7.1.2 in /usr/local/lib/python3.12/dist-packages (from torch>=1.8.0->ultralytics) (11.7.1.2)\n",
            "Requirement already satisfied: nvidia-cusparse-cu12==12.5.4.2 in /usr/local/lib/python3.12/dist-packages (from torch>=1.8.0->ultralytics) (12.5.4.2)\n",
            "Requirement already satisfied: nvidia-cusparselt-cu12==0.7.1 in /usr/local/lib/python3.12/dist-packages (from torch>=1.8.0->ultralytics) (0.7.1)\n",
            "Requirement already satisfied: nvidia-nccl-cu12==2.27.3 in /usr/local/lib/python3.12/dist-packages (from torch>=1.8.0->ultralytics) (2.27.3)\n",
            "Requirement already satisfied: nvidia-nvtx-cu12==12.6.77 in /usr/local/lib/python3.12/dist-packages (from torch>=1.8.0->ultralytics) (12.6.77)\n",
            "Requirement already satisfied: nvidia-nvjitlink-cu12==12.6.85 in /usr/local/lib/python3.12/dist-packages (from torch>=1.8.0->ultralytics) (12.6.85)\n",
            "Requirement already satisfied: nvidia-cufile-cu12==1.11.1.6 in /usr/local/lib/python3.12/dist-packages (from torch>=1.8.0->ultralytics) (1.11.1.6)\n",
            "Requirement already satisfied: triton==3.4.0 in /usr/local/lib/python3.12/dist-packages (from torch>=1.8.0->ultralytics) (3.4.0)\n",
            "Requirement already satisfied: six>=1.5 in /usr/local/lib/python3.12/dist-packages (from python-dateutil>=2.7->matplotlib>=3.3.0->ultralytics) (1.17.0)\n",
            "Requirement already satisfied: mpmath<1.4,>=1.1.0 in /usr/local/lib/python3.12/dist-packages (from sympy>=1.13.3->torch>=1.8.0->ultralytics) (1.3.0)\n",
            "Requirement already satisfied: MarkupSafe>=2.0 in /usr/local/lib/python3.12/dist-packages (from jinja2->torch>=1.8.0->ultralytics) (3.0.3)\n",
            "Downloading rdkit-2025.9.1-cp312-cp312-manylinux_2_28_x86_64.whl (36.2 MB)\n",
            "\u001b[2K   \u001b[90m━━━━━━━━━━━━━━━━━━━━━━━━━━━━━━━━━━━━━━━━\u001b[0m \u001b[32m36.2/36.2 MB\u001b[0m \u001b[31m54.5 MB/s\u001b[0m eta \u001b[36m0:00:00\u001b[0m\n",
            "\u001b[?25hDownloading ultralytics-8.3.217-py3-none-any.whl (1.1 MB)\n",
            "\u001b[2K   \u001b[90m━━━━━━━━━━━━━━━━━━━━━━━━━━━━━━━━━━━━━━━━\u001b[0m \u001b[32m1.1/1.1 MB\u001b[0m \u001b[31m39.0 MB/s\u001b[0m eta \u001b[36m0:00:00\u001b[0m\n",
            "\u001b[?25hDownloading ultralytics_thop-2.0.17-py3-none-any.whl (28 kB)\n",
            "Installing collected packages: rdkit, ultralytics-thop, ultralytics\n",
            "Successfully installed rdkit-2025.9.1 ultralytics-8.3.217 ultralytics-thop-2.0.17\n",
            "Creating new Ultralytics Settings v0.0.6 file ✅ \n",
            "View Ultralytics Settings with 'yolo settings' or at '/root/.config/Ultralytics/settings.json'\n",
            "Update Settings with 'yolo settings key=value', i.e. 'yolo settings runs_dir=path/to/dir'. For help see https://docs.ultralytics.com/quickstart/#ultralytics-settings.\n",
            "🧬 Génération des images moléculaires...\n"
          ]
        },
        {
          "output_type": "stream",
          "name": "stderr",
          "text": [
            "100%|██████████| 7/7 [00:01<00:00,  5.94it/s]"
          ]
        },
        {
          "output_type": "stream",
          "name": "stdout",
          "text": [
            "✅ Dataset généré.\n",
            "📦 56 images d'entraînement, 14 images de validation.\n"
          ]
        },
        {
          "output_type": "stream",
          "name": "stderr",
          "text": [
            "\n",
            "UsageError: Line magic function `%%writefile` not found.\n"
          ]
        }
      ],
      "source": [
        "# --- 🔟  Test sur quelques images ---\n",
        "test_model = YOLO(\"runs/detect/mol_recognition_advanced/weights/best.pt\")\n",
        "results = test_model.predict(source=\"dataset/images/val\", show=True, save=True)\n",
        "print(\"✅ Résultats enregistrés dans runs/predict/\")\n"
      ]
    },
    {
      "cell_type": "markdown",
      "source": [
        "Résumé des actions :\n",
        "\n",
        "| Élément          | Détail                                       |\n",
        "| ---------------- | -------------------------------------------- |\n",
        "| 🔧 Modèle        | YOLOv8s (Small, plus précis que Nano)        |\n",
        "| 🧬 Données       | 7 molécules × 10 variations = 70 images      |\n",
        "| 🎨 Augmentation  | rotation, zoom, couleur, symétrie            |\n",
        "| 📦 Dataset       | split automatique train/val                  |\n",
        "| 📈 Évaluation    | mAP, précision, rappel, confusion matrix     |\n",
        "| 💡 Visualisation | courbes d’apprentissage et résultats annotés |\n"
      ],
      "metadata": {
        "id": "P3EZo9U_z9Jv"
      }
    },
    {
      "cell_type": "code",
      "source": [
        "# --- 11️⃣ Export du modèle pour la MaixCam Pro ---\n",
        "from ultralytics import YOLO\n",
        "\n",
        "# Charger le modèle final entraîné\n",
        "model = YOLO(\"runs/detect/mol_recognition_advanced/weights/best.pt\")\n",
        "\n",
        "# Exporter en format .kmodel (pour NPU Kendryte K210/K230)\n",
        "model.export(format=\"kmodel\")  # ⚠️ nécessite Ultralytics ≥ 8.1.0\n",
        "\n"
      ],
      "metadata": {
        "id": "xHiElwDD0EL1"
      },
      "execution_count": null,
      "outputs": []
    },
    {
      "cell_type": "markdown",
      "source": [
        "Une fois l’export terminé, tu obtiens un fichier :\n",
        "\n",
        "runs/detect/mol_recognition_advanced/weights/best.kmodel"
      ],
      "metadata": {
        "id": "-N-55mwg3Egp"
      }
    },
    {
      "cell_type": "markdown",
      "source": [
        "Code Python (MaixPy) pour exécuter le modèle sur la MaixCam\n",
        "\n",
        "Crée un fichier sur la carte SD, par ex. main.py :\n",
        "\n",
        "# main.py — MaixCam Pro (K230)\n",
        "from maix import nn, camera, display\n",
        "import time\n",
        "\n",
        "# Charger le modèle YOLO exporté\n",
        "model = nn.load(\"/sd/olfactive_model.kmodel\")\n",
        "\n",
        "while True:\n",
        "    img = camera.capture()\n",
        "    if img is None:\n",
        "        continue\n",
        "\n",
        "    # Exécution du modèle (inférence)\n",
        "    res = model.forward(img)\n",
        "\n",
        "    # Affichage à l’écran\n",
        "    display.show(img)\n",
        "    if res:\n",
        "        print(\"Résultats bruts :\", res)\n",
        "        try:\n",
        "            obj = res[0]  # première détection\n",
        "            label = obj['class_name']\n",
        "            conf = obj['confidence']\n",
        "            print(f\"🧪 Molécule détectée : {label} ({conf:.2f})\")\n",
        "        except:\n",
        "            pass\n",
        "\n",
        "    time.sleep(0.1)\n",
        "\n",
        "🖥️ 14️⃣ Affichage HDMI (optionnel)\n",
        "\n",
        "Si ta MaixCam est reliée à un écran :\n",
        "\n",
        "tu verras la molécule capturée par la caméra,\n",
        "\n",
        "avec le nom détecté affiché dans le terminal ou sur l’écran."
      ],
      "metadata": {
        "id": "dVznE7Qf3QQf"
      }
    },
    {
      "cell_type": "markdown",
      "source": [
        "🧠 1️⃣ Que signifie mAP ?\n",
        "\n",
        "mAP = mean Average Precision\n",
        "→ c’est la moyenne de la précision sur toutes les classes, en tenant compte de la qualité de localisation des objets.\n",
        "\n",
        "Autrement dit :\n",
        "\n",
        "“Le modèle détecte-t-il la bonne molécule, au bon endroit, avec la bonne confiance ?”\n",
        "\n",
        "📦 2️⃣ Les notions de base : Precision, Recall et IoU\n",
        "Terme\tSignification\tEn détection\n",
        "Precision (P)\tparmi toutes les détections faites, combien sont correctes ?\tpeu de faux positifs\n",
        "Recall (R)\tparmi toutes les vraies molécules présentes, combien sont trouvées ?\tpeu d’oublis\n",
        "IoU (Intersection over Union)\tsuperposition entre la boîte prédite et la boîte réelle\tmesure de “visée”\n",
        "\n",
        "Exemple schématique :\n",
        "\n",
        "\n",
        "IoU = aire de l’intersection / aire de l’union\n",
        "\n",
        "si IoU > 0.5 → la détection est considérée correcte (assez bien localisée)\n",
        "\n",
        "🧮 3️⃣ Qu’est-ce que mAP@50 ?\n",
        "➤ Définition :\n",
        "\n",
        "mAP@50 (ou mAP50) = moyenne de la précision pour IoU ≥ 0.5.\n",
        "\n",
        "Cela signifie :\n",
        "\n",
        "Si la boîte prédite recouvre au moins 50 % de la vraie boîte, elle est comptée comme “bonne”.\n",
        "\n",
        "C’est donc une mesure de précision “tolérante”, idéale pour voir si le modèle reconnaît bien les bons objets.\n",
        "\n",
        "💡 Interprétation :\n",
        "\n",
        "mAP@50 = 1.00 → détections parfaites.\n",
        "\n",
        "mAP@50 = 0.80 → 80 % des molécules bien détectées.\n",
        "\n",
        "mAP@50 = 0.58 (ton cas actuel) → détection correcte mais pas encore stable.\n",
        "\n",
        "📊 4️⃣ Qu’est-ce que mAP@50–95 ?\n",
        "➤ Définition :\n",
        "\n",
        "Moyenne des mAP calculés pour IoU de 0.5 à 0.95, par pas de 0.05."
      ],
      "metadata": {
        "id": "W_VcpOw78Pmj"
      }
    }
  ]
}